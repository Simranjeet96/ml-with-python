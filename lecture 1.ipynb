{
 "cells": [
  {
   "cell_type": "markdown",
   "metadata": {},
   "source": [
    "# add two numbers given in form of list"
   ]
  },
  {
   "cell_type": "code",
   "execution_count": 2,
   "metadata": {
    "scrolled": true
   },
   "outputs": [
    {
     "name": "stdout",
     "output_type": "stream",
     "text": [
      "3\n",
      "1\n",
      "2\n",
      "3\n",
      "1\n",
      "9\n",
      "[2, 3, 1]\n"
     ]
    }
   ],
   "source": [
    "def sum(p,q) :# q is smaller\n",
    "    result=[]\n",
    "    add = int(0)\n",
    "    for i in range(len(q)-1,-1,-1) :\n",
    "        add = p[len(p)-len(q)+i] + q[i] + add\n",
    "        result.append(int(add%10))\n",
    "        add = int(add/10)\n",
    "    for i in range(len(p)-len(q)-1,-1,-1) :\n",
    "        add = add + p[i]\n",
    "        result.append(int(add%10))\n",
    "        add = int(add/10)\n",
    "    if (add!=0) :\n",
    "        result.append(add)\n",
    "    return result    \n",
    "    \n",
    "    \n",
    "m=int(input())\n",
    "a=[int(input()) for i in range(m)]\n",
    "n=int(input())\n",
    "b=[int(input()) for i in range(n)]\n",
    "if (m>=n) :\n",
    "    result=sum(a,b)\n",
    "else :\n",
    "    result=sum(b,a)\n",
    "\n",
    "print(result)    "
   ]
  },
  {
   "cell_type": "markdown",
   "metadata": {},
   "source": [
    "# transpose"
   ]
  },
  {
   "cell_type": "code",
   "execution_count": null,
   "metadata": {
    "collapsed": true
   },
   "outputs": [],
   "source": [
    "m=int(input())\n",
    "n=int(input())\n",
    "a =[[int(input()) for i in range(n)] for j in range(m)]\n",
    "b=[]\n",
    "for i in range(n) :\n",
    "   b.append([]) \n",
    "   for j in range(m) :\n",
    "        b[i].append(a[j][i])\n",
    "print(a)\n",
    "print(b)\n",
    "        "
   ]
  },
  {
   "cell_type": "markdown",
   "metadata": {},
   "source": [
    "a=5\n",
    "b=a+5\n",
    "print(b)\n",
    "a=3\n",
    "print(b)"
   ]
  },
  {
   "cell_type": "markdown",
   "metadata": {},
   "source": [
    "# removing elements"
   ]
  },
  {
   "cell_type": "code",
   "execution_count": 5,
   "metadata": {},
   "outputs": [
    {
     "name": "stdout",
     "output_type": "stream",
     "text": [
      "[[1, 2, 3], ['a', 'b', 'c']]\n",
      "[1, 2, 3]\n",
      "['x', 'a', 'b', 'c', 'd']\n",
      "[[1, 2, 3], ['x', 'a', 'b', 'c', 'd']]\n"
     ]
    }
   ],
   "source": [
    "a=[1,2,3]\n",
    "b=[\"a\",\"b\",\"c\"]\n",
    "c=[a,b]\n",
    "print(c)\n",
    "'''print(\"%c is my %s letter and my number %d number is %.5f\" %('X','favorite', 1, .14))'''\n",
    "\n",
    "b.append(\"d\")\n",
    "b.insert(0,\"x\")\n",
    "del b\n",
    "for v in c:\n",
    "    print(v)\n",
    "print("
   ]
  },
  {
   "cell_type": "code",
   "execution_count": 2,
   "metadata": {},
   "outputs": [
    {
     "name": "stdout",
     "output_type": "stream",
     "text": [
      "16\n"
     ]
    }
   ],
   "source": [
    "import random as rd\n",
    "print(rd.randrange(0,20))"
   ]
  },
  {
   "cell_type": "code",
   "execution_count": null,
   "metadata": {
    "collapsed": true
   },
   "outputs": [],
   "source": [
    "a=[1,2,3,4]\n",
    "try:\n",
    "    b=a.index(6)\n",
    "    del a[b]\n",
    "except:\n",
    "    pass\n",
    "print a"
   ]
  }
 ],
 "metadata": {
  "kernelspec": {
   "display_name": "Python 3",
   "language": "python",
   "name": "python3"
  },
  "language_info": {
   "codemirror_mode": {
    "name": "ipython",
    "version": 3
   },
   "file_extension": ".py",
   "mimetype": "text/x-python",
   "name": "python",
   "nbconvert_exporter": "python",
   "pygments_lexer": "ipython3",
   "version": "3.6.1"
  }
 },
 "nbformat": 4,
 "nbformat_minor": 2
}
