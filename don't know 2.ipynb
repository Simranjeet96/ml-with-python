{
 "cells": [
  {
   "cell_type": "code",
   "execution_count": 2,
   "metadata": {
    "collapsed": true
   },
   "outputs": [],
   "source": [
    "from PIL import Image\n",
    "import numpy as np"
   ]
  },
  {
   "cell_type": "code",
   "execution_count": 25,
   "metadata": {},
   "outputs": [
    {
     "data": {
      "text/plain": [
       "array([[ 18.,  17.,  18., ...,  17.,  16.,  17.],\n",
       "       [ 18.,  20.,  17., ...,  19.,  20.,  20.],\n",
       "       [ 19.,  19.,  17., ...,  22.,  22.,  21.],\n",
       "       ..., \n",
       "       [ 32.,  32.,  32., ...,  17.,  18.,  19.],\n",
       "       [ 36.,  31.,  45., ...,  17.,  18.,  17.],\n",
       "       [ 32.,  37.,  60., ...,  16.,  19.,  17.]], dtype=float32)"
      ]
     },
     "execution_count": 25,
     "metadata": {},
     "output_type": "execute_result"
    }
   ],
   "source": [
    "fname=\"D:/DOCUMENTS/portal.png\"\n",
    "img=np.asarray(Image.open(fname), dtype=np.float32)\n",
    "img"
   ]
  },
  {
   "cell_type": "code",
   "execution_count": 20,
   "metadata": {
    "collapsed": true
   },
   "outputs": [],
   "source": [
    "def common_size(a1, a2):\n",
    "    \"\"\"Chop-off the first rows and cols from the two numpy arrays a1\n",
    "    and a2 so that they end up having the same size.\n",
    "    >>> print common_size(np.array([[0, 0],\n",
    "    ...                             [1, 2],\n",
    "    ...                             [3, 4]]),\n",
    "    ...                   np.array([[0, 5, 6],\n",
    "    ...                             [0, 7, 8]]))\n",
    "    (array([[1, 2],\n",
    "           [3, 4]]), array([[5, 6],\n",
    "           [7, 8]]))\n",
    "    \"\"\"\n",
    "    (r1, c1) = a1.shape\n",
    "    (r2, c2) = a2.shape\n",
    "    return (a1[r1-r2 if r1>r2 else 0:,\n",
    "               c1-c2 if c1>c2 else 0:],\n",
    "            a2[r2-r1 if r2>r1 else 0::,\n",
    "               c2-c1 if c2>c1 else 0:])"
   ]
  },
  {
   "cell_type": "code",
   "execution_count": 26,
   "metadata": {
    "collapsed": true
   },
   "outputs": [],
   "source": [
    "def np_from_img(fname):\n",
    "    return np.asarray(Image.open(fname), dtype=np.float32)\n",
    "\n",
    "def save_as_img(ar, fname):\n",
    "    Image.fromarray(ar.round().astype(np.uint8)).save(fname)\n",
    "\n",
    "def norm(ar):\n",
    "    return 255*np.absolute(ar)/np.max(ar)"
   ]
  },
  {
   "cell_type": "code",
   "execution_count": 27,
   "metadata": {
    "collapsed": true
   },
   "outputs": [],
   "source": [
    "from scipy import signal as sg"
   ]
  },
  {
   "cell_type": "code",
   "execution_count": 39,
   "metadata": {
    "collapsed": true
   },
   "outputs": [],
   "source": [
    "def gradient(im):\n",
    "    imv, imh = common_size(sg.convolve(im, [[1., -1.]]),\n",
    "                           sg.convolve(im, [[1.], [-1.]]))\n",
    "    return (np.power(imv, 1)+np.power(imh, 1))/2"
   ]
  },
  {
   "cell_type": "code",
   "execution_count": 44,
   "metadata": {},
   "outputs": [
    {
     "name": "stdout",
     "output_type": "stream",
     "text": [
      "[[  1.80000000e+01   1.70000000e+01   1.80000000e+01 ...,   1.70000000e+01\n",
      "    1.60000000e+01   1.70000000e+01]\n",
      " [  5.57907636e-14   3.00000000e+00  -1.00000000e+00 ...,   2.00000000e+00\n",
      "    4.00000000e+00   3.00000000e+00]\n",
      " [  1.00000000e+00  -1.00000000e+00   2.18952426e-14 ...,   3.00000000e+00\n",
      "    2.00000000e+00   1.00000000e+00]\n",
      " ..., \n",
      " [  4.00000000e+00  -1.00000000e+00   1.30000000e+01 ...,   5.81066093e-14\n",
      "    9.37390085e-14  -2.00000000e+00]\n",
      " [ -4.00000000e+00   6.00000000e+00   1.50000000e+01 ...,  -1.00000000e+00\n",
      "    1.00000000e+00  -7.57912274e-14]\n",
      " [ -3.20000000e+01  -3.70000000e+01  -6.00000000e+01 ...,  -1.60000000e+01\n",
      "   -1.90000000e+01  -1.70000000e+01]]\n"
     ]
    },
    {
     "data": {
      "text/plain": [
       "array([[  2.27227726e+01,   2.14603958e+01,   2.27227726e+01, ...,\n",
       "          2.14603958e+01,   2.01980190e+01,   2.14603958e+01],\n",
       "       [  7.04289329e-14,   3.78712869e+00,   1.26237619e+00, ...,\n",
       "          2.52475238e+00,   5.04950476e+00,   3.78712869e+00],\n",
       "       [  1.26237619e+00,   1.26237619e+00,   2.76400335e-14, ...,\n",
       "          3.78712869e+00,   2.52475238e+00,   1.26237619e+00],\n",
       "       ..., \n",
       "       [  5.04950476e+00,   1.26237619e+00,   1.64108906e+01, ...,\n",
       "          7.33524027e-14,   1.18333891e-13,   2.52475238e+00],\n",
       "       [  5.04950476e+00,   7.57425737e+00,   1.89356441e+01, ...,\n",
       "          1.26237619e+00,   1.26237619e+00,   9.56770402e-14],\n",
       "       [  4.03960381e+01,   4.67079201e+01,   7.57425766e+01, ...,\n",
       "          2.01980190e+01,   2.39851494e+01,   2.14603958e+01]], dtype=float32)"
      ]
     },
     "execution_count": 44,
     "metadata": {},
     "output_type": "execute_result"
    }
   ],
   "source": [
    "print(sg.convolve(img, [[1.],[-1.]]))\n",
    "norm(sg.convolve(img, [[1.],[-1.]]))"
   ]
  },
  {
   "cell_type": "code",
   "execution_count": 3,
   "metadata": {},
   "outputs": [
    {
     "data": {
      "text/plain": [
       "\"save_as_img(norm(sg.convolve(img, [[1.],                                   [-1.]])),            'D:/DOCUMENTS/portal-h.png')save_as_img(norm(sg.convolve(img, [[1., -1.]])),            'D:/DOCUMENTS/portal-v.png')save_as_img((sg.convolve(img, [[1.],[-1.]])),            'D:/DOCUMENTS/portal wonorm -h.png')save_as_img((gradient(img)),            'D:/DOCUMENTS/portal wgrad  -h.png')\""
      ]
     },
     "execution_count": 3,
     "metadata": {},
     "output_type": "execute_result"
    }
   ],
   "source": [
    "\"save_as_img(norm(sg.convolve(img, [[1.],\\\n",
    "                                   [-1.]])),\\\n",
    "            'D:/DOCUMENTS/portal-h.png')\\\n",
    "save_as_img(norm(sg.convolve(img, [[1., -1.]])),\\\n",
    "            'D:/DOCUMENTS/portal-v.png')\\\n",
    "save_as_img((sg.convolve(img, [[1.],[-1.]])),\\\n",
    "            'D:/DOCUMENTS/portal wonorm -h.png')\\\n",
    "save_as_img((gradient(img)),\\\n",
    "            'D:/DOCUMENTS/portal wgrad  -h.png')\"\n"
   ]
  },
  {
   "cell_type": "code",
   "execution_count": 3,
   "metadata": {},
   "outputs": [
    {
     "name": "stdout",
     "output_type": "stream",
     "text": [
      "\n",
      "Please wait a moment while I gather a list of all available modules...\n",
      "\n"
     ]
    },
    {
     "name": "stderr",
     "output_type": "stream",
     "text": [
      "C:\\Users\\simra\\Anaconda3\\lib\\site-packages\\IPython\\kernel\\__init__.py:13: ShimWarning: The `IPython.kernel` package has been deprecated since IPython 4.0.You should import from ipykernel or jupyter_client instead.\n",
      "  \"You should import from ipykernel or jupyter_client instead.\", ShimWarning)\n",
      "C:\\Users\\simra\\Anaconda3\\lib\\site-packages\\odo\\backends\\pandas.py:94: FutureWarning: pandas.tslib is deprecated and will be removed in a future version.\n",
      "You can access NaTType as type(pandas.NaT)\n",
      "  @convert.register((pd.Timestamp, pd.Timedelta), (pd.tslib.NaTType, type(None)))\n",
      "C:\\Users\\simra\\Anaconda3\\lib\\site-packages\\blaze\\server\\server.py:17: ExtDeprecationWarning: Importing flask.ext.cors is deprecated, use flask_cors instead.\n",
      "  from flask.ext.cors import cross_origin\n",
      "C:\\Users\\simra\\Anaconda3\\lib\\site-packages\\bokeh\\util\\deprecation.py:34: BokehDeprecationWarning: MPL compatibility can no longer be successfully maintained, and is now deprecated. All MPL compat functions will be removed completely on the release of Bokeh 1.0. See http://bokeh.pydata.org/en/latest/docs/releases/0.12.5.html for more information\n",
      "  warn(message)\n",
      "C:\\Users\\simra\\Anaconda3\\lib\\site-packages\\matplotlib\\cbook.py:136: MatplotlibDeprecationWarning: The matplotlib.delaunay module was deprecated in version 1.4. Use matplotlib.tri.Triangulation instead.\n",
      "  warnings.warn(message, mplDeprecation, stacklevel=1)\n",
      "C:\\Users\\simra\\Anaconda3\\lib\\site-packages\\nltk\\twitter\\__init__.py:20: UserWarning: The twython library has not been installed. Some functionality from the twitter package will not be available.\n",
      "  warnings.warn(\"The twython library has not been installed. \"\n",
      "C:\\Users\\simra\\Anaconda3\\lib\\site-packages\\skimage\\viewer\\utils\\core.py:10: UserWarning: Recommended matplotlib backend is `Agg` for full skimage.viewer functionality.\n",
      "  warn(\"Recommended matplotlib backend is `Agg` for full \"\n",
      "C:\\Users\\simra\\Anaconda3\\lib\\site-packages\\qtawesome\\iconic_font.py:268: UserWarning: You need to have a running QApplication to use QtAwesome!\n",
      "  warnings.warn(\"You need to have a running \"\n",
      "C:\\Users\\simra\\Anaconda3\\lib\\site-packages\\statsmodels\\compat\\pandas.py:56: FutureWarning: The pandas.core.datetools module is deprecated and will be removed in a future version. Please use the pandas.tseries module instead.\n",
      "  from pandas.core import datetools\n"
     ]
    },
    {
     "name": "stdout",
     "output_type": "stream",
     "text": [
      "Crypto              chunk               msgpack             spyder_pylint\n",
      "Cython              click               msilib              sqlalchemy\n",
      "IPython             cloudpickle         msvcrt              sqlite3\n",
      "OleFileIO_PL        clyent              multipledispatch    sre_compile\n",
      "OpenSSL             cmath               multiprocessing     sre_constants\n",
      "PIL                 cmd                 navigator_updater   sre_parse\n",
      "PyQt5               code                nbconvert           ssl\n",
      "__future__          codecs              nbformat            sspi\n",
      "_ast                codeop              netbios             sspicon\n",
      "_asyncio            collections         netrc               stat\n",
      "_bisect             colorama            networkx            statistics\n",
      "_blake2             colorsys            nltk                statsmodels\n",
      "_bootlocale         commctrl            nntplib             storemagic\n",
      "_bz2                compileall          nose                string\n",
      "_cffi_backend       comtypes            notebook            stringprep\n",
      "_codecs             concurrent          nt                  struct\n",
      "_codecs_cn          conda               ntpath              subprocess\n",
      "_codecs_hk          conda_env           ntsecuritycon       sunau\n",
      "_codecs_iso2022     configparser        nturl2path          symbol\n",
      "_codecs_jp          contextlib          numba               sympy\n",
      "_codecs_kr          contextlib2         numbers             sympyprinting\n",
      "_codecs_tw          copy                numexpr             symtable\n",
      "_collections        copyreg             numpy               sys\n",
      "_collections_abc    crypt               numpydoc            sysconfig\n",
      "_compat_pickle      cryptography        odbc                tables\n",
      "_compression        csv                 odo                 tabnanny\n",
      "_csv                ctypes              olefile             tarfile\n",
      "_ctypes             curl                opcode              tblib\n",
      "_ctypes_test        curses              openpyxl            telnetlib\n",
      "_datetime           cwp                 operator            tempfile\n",
      "_decimal            cycler              optparse            tensorflow\n",
      "_dummy_thread       cython              os                  test\n",
      "_elementtree        cythonmagic         packaging           test_path\n",
      "_functools          cytoolz             pandas              test_pycosat\n",
      "_hashlib            dask                pandocfilters       testpath\n",
      "_heapq              datashape           parser              tests\n",
      "_imp                datetime            partd               textwrap\n",
      "_io                 dateutil            path                this\n",
      "_json               dbi                 pathlib             threading\n",
      "_license            dbm                 pathlib2            time\n",
      "_locale             dde                 patsy               timeit\n",
      "_lsprof             decimal             pdb                 timer\n",
      "_lzma               decorator           pep8                tkinter\n",
      "_markupbase         difflib             perfmon             tlz\n",
      "_md5                dis                 pickle              token\n",
      "_msi                distributed         pickleshare         tokenize\n",
      "_multibytecodec     distutils           pickletools         toolz\n",
      "_multiprocessing    doctest             pip                 tornado\n",
      "_nsis               docutils            pipes               trace\n",
      "_opcode             dummy_threading     pkg_resources       traceback\n",
      "_operator           easy_install        pkgutil             tracemalloc\n",
      "_osx_support        email               platform            traitlets\n",
      "_overlapped         encodings           plistlib            tty\n",
      "_pickle             ensurepip           ply                 turtle\n",
      "_pydecimal          entrypoints         poplib              turtledemo\n",
      "_pyio               enum                posixpath           types\n",
      "_pytest             errno               pprint              typing\n",
      "_random             et_xmlfile          profile             unicodecsv\n",
      "_sha1               fastcache           prompt_toolkit      unicodedata\n",
      "_sha256             faulthandler        pstats              unittest\n",
      "_sha3               filecmp             psutil              urllib\n",
      "_sha512             fileinput           pty                 uu\n",
      "_signal             flask               py                  uuid\n",
      "_sitebuiltins       flask_cors          py_compile          venv\n",
      "_socket             fnmatch             pyclbr              warnings\n",
      "_sqlite3            formatter           pycosat             wave\n",
      "_sre                fractions           pycparser           wcwidth\n",
      "_ssl                ftplib              pycurl              weakref\n",
      "_stat               functools           pydoc               webbrowser\n",
      "_string             gc                  pydoc_data          werkzeug\n",
      "_strptime           genericpath         pydotplus           wheel\n",
      "_struct             getopt              pyexpat             widgetsnbextension\n",
      "_symtable           getpass             pyflakes            win2kras\n",
      "_system_path        gettext             pygments            win32api\n",
      "_testbuffer         gevent              pylab               win32clipboard\n",
      "_testcapi           glob                pylint              win32com\n",
      "_testconsole        greenlet            pyodbc              win32con\n",
      "_testimportmultiple gzip                pyparsing           win32console\n",
      "_testmultiphase     h5py                pyreadline          win32cred\n",
      "_thread             hashlib             pytest              win32crypt\n",
      "_threading_local    heapdict            pythoncom           win32cryptcon\n",
      "_tkinter            heapq               pytz                win32event\n",
      "_tracemalloc        hmac                pywin               win32evtlog\n",
      "_warnings           html                pywin32_testutil    win32evtlogutil\n",
      "_weakref            html5lib            pywintypes          win32file\n",
      "_weakrefset         http                pywt                win32gui\n",
      "_win32sysloader     idlelib             pyximport           win32gui_struct\n",
      "_winapi             idna                qtawesome           win32help\n",
      "_winxptheme         imagesize           qtconsole           win32inet\n",
      "abc                 imaplib             qtpy                win32inetcon\n",
      "adodbapi            imghdr              queue               win32job\n",
      "afxres              imp                 quopri              win32lz\n",
      "aifc                importlib           random              win32net\n",
      "alabaster           inspect             rasutil             win32netcon\n",
      "anaconda_navigator  io                  re                  win32pdh\n",
      "anaconda_project    ipaddress           readline            win32pdhquery\n",
      "antigravity         ipykernel           regcheck            win32pdhutil\n",
      "argparse            ipykernel_launcher  regutil             win32pipe\n",
      "array               ipython_genutils    reprlib             win32print\n",
      "asn1crypto          ipywidgets          requests            win32process\n",
      "ast                 isapi               rlcompleter         win32profile\n",
      "astroid             isort               rmagic              win32ras\n",
      "astropy             itertools           rope                win32rcparser\n",
      "asynchat            itsdangerous        ruamel_yaml         win32security\n",
      "asyncio             jdcal               run                 win32service\n",
      "asyncore            jedi                runpy               win32serviceutil\n",
      "atexit              jinja2              sched               win32timezone\n",
      "audioop             json                scipy               win32trace\n",
      "autoreload          jsonschema          scripts             win32traceutil\n",
      "babel               jupyter             seaborn             win32transaction\n",
      "backports           jupyter_client      secrets             win32ts\n",
      "base64              jupyter_console     select              win32ui\n",
      "bdb                 jupyter_core        selectors           win32uiole\n",
      "binascii            keyword             servicemanager      win32verstamp\n",
      "binhex              lazy_object_proxy   setuptools          win32wnet\n",
      "binstar_client      lib2to3             shelve              win_unicode_console\n",
      "bisect              linecache           shlex               winerror\n",
      "bitarray            llvmlite            shutil              winioctlcon\n",
      "blaze               locale              signal              winnt\n",
      "bleach              locket              simplegeneric       winperf\n",
      "bokeh               logging             singledispatch      winreg\n",
      "boto                lxml                singledispatch_helpers winsound\n",
      "bottleneck          lzma                sip                 winxpgui\n",
      "brain_builtin_inference macpath             sipconfig           winxptheme\n",
      "brain_dateutil      macurl2path         sipdistutils        wordcloud\n",
      "brain_gi            mailbox             site                wrapt\n",
      "brain_mechanize     mailcap             six                 wsgiref\n",
      "brain_nose          markdown            skimage             xdrlib\n",
      "brain_numpy         markupsafe          sklearn             xlrd\n",
      "brain_pytest        marshal             smtpd               xlsxwriter\n",
      "brain_qt            math                smtplib             xlwings\n",
      "brain_six           matplotlib          sndhdr              xlwt\n",
      "brain_ssl           memory_profiler     snowballstemmer     xml\n",
      "brain_stdlib        menuinst            socket              xmlrpc\n",
      "bs4                 mimetypes           socketserver        xxsubtype\n",
      "builtins            mistune             sortedcollections   yaml\n",
      "bz2                 mkl                 sortedcontainers    zict\n",
      "cProfile            mmap                sphinx              zipapp\n",
      "calendar            mmapfile            spyder              zipfile\n",
      "cffi                mmsystem            spyder_breakpoints  zipimport\n",
      "cgi                 modulefinder        spyder_io_dcm       zlib\n",
      "cgitb               mpl_toolkits        spyder_io_hdf5      zmq\n",
      "chardet             mpmath              spyder_profiler     \n",
      "\n",
      "Enter any module name to get more help.  Or, type \"modules spam\" to search\n",
      "for modules whose name or summary contain the string \"spam\".\n",
      "\n"
     ]
    }
   ],
   "source": [
    "help(\"modules\")"
   ]
  }
 ],
 "metadata": {
  "kernelspec": {
   "display_name": "Python 3",
   "language": "python",
   "name": "python3"
  },
  "language_info": {
   "codemirror_mode": {
    "name": "ipython",
    "version": 3
   },
   "file_extension": ".py",
   "mimetype": "text/x-python",
   "name": "python",
   "nbconvert_exporter": "python",
   "pygments_lexer": "ipython3",
   "version": "3.6.1"
  }
 },
 "nbformat": 4,
 "nbformat_minor": 2
}
