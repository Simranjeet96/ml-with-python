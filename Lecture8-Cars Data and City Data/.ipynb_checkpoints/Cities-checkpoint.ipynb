{
 "cells": [
  {
   "cell_type": "code",
   "execution_count": 1,
   "metadata": {
    "collapsed": true
   },
   "outputs": [],
   "source": [
    "import pandas as pd\n",
    "city = pd.read_csv('cities_r2.csv')"
   ]
  },
  {
   "cell_type": "code",
   "execution_count": 2,
   "metadata": {},
   "outputs": [
    {
     "data": {
      "text/html": [
       "<div>\n",
       "<style>\n",
       "    .dataframe thead tr:only-child th {\n",
       "        text-align: right;\n",
       "    }\n",
       "\n",
       "    .dataframe thead th {\n",
       "        text-align: left;\n",
       "    }\n",
       "\n",
       "    .dataframe tbody tr th {\n",
       "        vertical-align: top;\n",
       "    }\n",
       "</style>\n",
       "<table border=\"1\" class=\"dataframe\">\n",
       "  <thead>\n",
       "    <tr style=\"text-align: right;\">\n",
       "      <th></th>\n",
       "      <th>name_of_city</th>\n",
       "      <th>state_code</th>\n",
       "      <th>state_name</th>\n",
       "      <th>dist_code</th>\n",
       "      <th>population_total</th>\n",
       "      <th>population_male</th>\n",
       "      <th>population_female</th>\n",
       "      <th>0-6_population_total</th>\n",
       "      <th>0-6_population_male</th>\n",
       "      <th>0-6_population_female</th>\n",
       "      <th>...</th>\n",
       "      <th>literates_female</th>\n",
       "      <th>sex_ratio</th>\n",
       "      <th>child_sex_ratio</th>\n",
       "      <th>effective_literacy_rate_total</th>\n",
       "      <th>effective_literacy_rate_male</th>\n",
       "      <th>effective_literacy_rate_female</th>\n",
       "      <th>location</th>\n",
       "      <th>total_graduates</th>\n",
       "      <th>male_graduates</th>\n",
       "      <th>female_graduates</th>\n",
       "    </tr>\n",
       "  </thead>\n",
       "  <tbody>\n",
       "    <tr>\n",
       "      <th>0</th>\n",
       "      <td>Abohar</td>\n",
       "      <td>3</td>\n",
       "      <td>PUNJAB</td>\n",
       "      <td>9</td>\n",
       "      <td>145238</td>\n",
       "      <td>76840</td>\n",
       "      <td>68398</td>\n",
       "      <td>15870</td>\n",
       "      <td>8587</td>\n",
       "      <td>7283</td>\n",
       "      <td>...</td>\n",
       "      <td>44972</td>\n",
       "      <td>890</td>\n",
       "      <td>848</td>\n",
       "      <td>79.86</td>\n",
       "      <td>85.49</td>\n",
       "      <td>73.59</td>\n",
       "      <td>30.1452928,74.1993043</td>\n",
       "      <td>16287</td>\n",
       "      <td>8612</td>\n",
       "      <td>7675</td>\n",
       "    </tr>\n",
       "    <tr>\n",
       "      <th>1</th>\n",
       "      <td>Achalpur</td>\n",
       "      <td>27</td>\n",
       "      <td>MAHARASHTRA</td>\n",
       "      <td>7</td>\n",
       "      <td>112293</td>\n",
       "      <td>58256</td>\n",
       "      <td>54037</td>\n",
       "      <td>11810</td>\n",
       "      <td>6186</td>\n",
       "      <td>5624</td>\n",
       "      <td>...</td>\n",
       "      <td>43086</td>\n",
       "      <td>928</td>\n",
       "      <td>909</td>\n",
       "      <td>91.99</td>\n",
       "      <td>94.77</td>\n",
       "      <td>89.00</td>\n",
       "      <td>21.257584,77.5086754</td>\n",
       "      <td>8863</td>\n",
       "      <td>5269</td>\n",
       "      <td>3594</td>\n",
       "    </tr>\n",
       "    <tr>\n",
       "      <th>2</th>\n",
       "      <td>Adilabad</td>\n",
       "      <td>28</td>\n",
       "      <td>ANDHRA PRADESH</td>\n",
       "      <td>1</td>\n",
       "      <td>117388</td>\n",
       "      <td>59232</td>\n",
       "      <td>58156</td>\n",
       "      <td>13103</td>\n",
       "      <td>6731</td>\n",
       "      <td>6372</td>\n",
       "      <td>...</td>\n",
       "      <td>37660</td>\n",
       "      <td>982</td>\n",
       "      <td>947</td>\n",
       "      <td>80.51</td>\n",
       "      <td>88.18</td>\n",
       "      <td>72.73</td>\n",
       "      <td>19.0809075,79.560344</td>\n",
       "      <td>10565</td>\n",
       "      <td>6797</td>\n",
       "      <td>3768</td>\n",
       "    </tr>\n",
       "    <tr>\n",
       "      <th>3</th>\n",
       "      <td>Adityapur</td>\n",
       "      <td>20</td>\n",
       "      <td>JHARKHAND</td>\n",
       "      <td>24</td>\n",
       "      <td>173988</td>\n",
       "      <td>91495</td>\n",
       "      <td>82493</td>\n",
       "      <td>23042</td>\n",
       "      <td>12063</td>\n",
       "      <td>10979</td>\n",
       "      <td>...</td>\n",
       "      <td>54515</td>\n",
       "      <td>902</td>\n",
       "      <td>910</td>\n",
       "      <td>83.46</td>\n",
       "      <td>89.98</td>\n",
       "      <td>76.23</td>\n",
       "      <td>22.7834741,86.1576889</td>\n",
       "      <td>19225</td>\n",
       "      <td>12189</td>\n",
       "      <td>7036</td>\n",
       "    </tr>\n",
       "    <tr>\n",
       "      <th>4</th>\n",
       "      <td>Adoni</td>\n",
       "      <td>28</td>\n",
       "      <td>ANDHRA PRADESH</td>\n",
       "      <td>21</td>\n",
       "      <td>166537</td>\n",
       "      <td>82743</td>\n",
       "      <td>83794</td>\n",
       "      <td>18406</td>\n",
       "      <td>9355</td>\n",
       "      <td>9051</td>\n",
       "      <td>...</td>\n",
       "      <td>45089</td>\n",
       "      <td>1013</td>\n",
       "      <td>968</td>\n",
       "      <td>68.38</td>\n",
       "      <td>76.58</td>\n",
       "      <td>60.33</td>\n",
       "      <td>15.6322227,77.2728368</td>\n",
       "      <td>11902</td>\n",
       "      <td>7871</td>\n",
       "      <td>4031</td>\n",
       "    </tr>\n",
       "  </tbody>\n",
       "</table>\n",
       "<p>5 rows × 22 columns</p>\n",
       "</div>"
      ],
      "text/plain": [
       "  name_of_city  state_code      state_name  dist_code  population_total  \\\n",
       "0      Abohar            3          PUNJAB          9            145238   \n",
       "1    Achalpur           27     MAHARASHTRA          7            112293   \n",
       "2    Adilabad           28  ANDHRA PRADESH          1            117388   \n",
       "3   Adityapur           20       JHARKHAND         24            173988   \n",
       "4       Adoni           28  ANDHRA PRADESH         21            166537   \n",
       "\n",
       "   population_male  population_female  0-6_population_total  \\\n",
       "0            76840              68398                 15870   \n",
       "1            58256              54037                 11810   \n",
       "2            59232              58156                 13103   \n",
       "3            91495              82493                 23042   \n",
       "4            82743              83794                 18406   \n",
       "\n",
       "   0-6_population_male  0-6_population_female        ...         \\\n",
       "0                 8587                   7283        ...          \n",
       "1                 6186                   5624        ...          \n",
       "2                 6731                   6372        ...          \n",
       "3                12063                  10979        ...          \n",
       "4                 9355                   9051        ...          \n",
       "\n",
       "   literates_female  sex_ratio  child_sex_ratio  \\\n",
       "0             44972        890              848   \n",
       "1             43086        928              909   \n",
       "2             37660        982              947   \n",
       "3             54515        902              910   \n",
       "4             45089       1013              968   \n",
       "\n",
       "   effective_literacy_rate_total  effective_literacy_rate_male  \\\n",
       "0                          79.86                         85.49   \n",
       "1                          91.99                         94.77   \n",
       "2                          80.51                         88.18   \n",
       "3                          83.46                         89.98   \n",
       "4                          68.38                         76.58   \n",
       "\n",
       "   effective_literacy_rate_female               location  total_graduates  \\\n",
       "0                           73.59  30.1452928,74.1993043            16287   \n",
       "1                           89.00   21.257584,77.5086754             8863   \n",
       "2                           72.73   19.0809075,79.560344            10565   \n",
       "3                           76.23  22.7834741,86.1576889            19225   \n",
       "4                           60.33  15.6322227,77.2728368            11902   \n",
       "\n",
       "  male_graduates  female_graduates  \n",
       "0           8612              7675  \n",
       "1           5269              3594  \n",
       "2           6797              3768  \n",
       "3          12189              7036  \n",
       "4           7871              4031  \n",
       "\n",
       "[5 rows x 22 columns]"
      ]
     },
     "execution_count": 2,
     "metadata": {},
     "output_type": "execute_result"
    }
   ],
   "source": [
    "city.head()"
   ]
  },
  {
   "cell_type": "code",
   "execution_count": 3,
   "metadata": {},
   "outputs": [
    {
     "name": "stdout",
     "output_type": "stream",
     "text": [
      "['PUNJAB' 'MAHARASHTRA' 'ANDHRA PRADESH' 'JHARKHAND' 'TRIPURA'\n",
      " 'UTTAR PRADESH' 'GUJARAT' 'MIZORAM' 'RAJASTHAN' 'TAMIL NADU' 'KERALA'\n",
      " 'HARYANA' 'CHHATTISGARH' 'JAMMU & KASHMIR' 'BIHAR' 'WEST BENGAL'\n",
      " 'KARNATAKA' 'ORISSA' 'MADHYA PRADESH' 'NCT OF DELHI' 'CHANDIGARH'\n",
      " 'UTTARAKHAND' 'ASSAM' 'NAGALAND' 'MANIPUR ' 'PUDUCHERRY'\n",
      " 'ANDAMAN & NICOBAR ISLANDS' 'MEGHALAYA' 'HIMACHAL PRADESH']\n",
      "[ 3 27 28 20 16  9 24 15  8 33 32  6 22  1 10 19 29 21 23  7  4  5 18 13 14\n",
      " 34 35 17  2]\n",
      "state_code\n",
      "3      5821876\n",
      "27    37722136\n",
      "28    18171615\n",
      "20     4278259\n",
      "16      399688\n",
      "9     25302925\n",
      "24    17835049\n",
      "15      291822\n",
      "8     10443016\n",
      "33    13879395\n",
      "32     2755973\n",
      "6      5952223\n",
      "22     3137918\n",
      "1      1804987\n",
      "10     6714516\n",
      "19    18063509\n",
      "29    15799896\n",
      "21     3003234\n",
      "23    11023091\n",
      "7     13481997\n",
      "4       960787\n",
      "5      1340397\n",
      "18     1391154\n",
      "13      123777\n",
      "14      264986\n",
      "34      541801\n",
      "35      100608\n",
      "17      143007\n",
      "2       169758\n",
      "Name: population_total, dtype: int64\n",
      "state_code\n",
      "3      3106473\n",
      "27    19961736\n",
      "28     9192368\n",
      "20     2247819\n",
      "16      199616\n",
      "9     13433369\n",
      "24     9541688\n",
      "15      143803\n",
      "8      5484470\n",
      "33     6957261\n",
      "32     1335615\n",
      "6      3181968\n",
      "22     1612019\n",
      "1       953292\n",
      "10     3558722\n",
      "19     9357777\n",
      "29     8112840\n",
      "21     1560423\n",
      "23     5761143\n",
      "7      7201322\n",
      "4       525226\n",
      "5       706939\n",
      "18      720132\n",
      "13       65017\n",
      "14      128931\n",
      "34      266359\n",
      "35       53247\n",
      "17       70028\n",
      "2        93364\n",
      "Name: population_male, dtype: int64\n",
      "state_code\n",
      "3      2715403\n",
      "27    17760400\n",
      "28     8979247\n",
      "20     2030440\n",
      "16      200072\n",
      "9     11869556\n",
      "24     8293361\n",
      "15      148019\n",
      "8      4958546\n",
      "33     6922134\n",
      "32     1420358\n",
      "6      2770255\n",
      "22     1525899\n",
      "1       851695\n",
      "10     3155794\n",
      "19     8705732\n",
      "29     7687056\n",
      "21     1442811\n",
      "23     5261948\n",
      "7      6280675\n",
      "4       435561\n",
      "5       633458\n",
      "18      671022\n",
      "13       58760\n",
      "14      136055\n",
      "34      275442\n",
      "35       47361\n",
      "17       72979\n",
      "2        76394\n",
      "Name: population_female, dtype: int64\n"
     ]
    },
    {
     "data": {
      "text/plain": [
       "29"
      ]
     },
     "execution_count": 3,
     "metadata": {},
     "output_type": "execute_result"
    }
   ],
   "source": [
    "#unique state names\n",
    "states = city.state_name.unique()\n",
    "\n",
    "#unique state codes\n",
    "state_code = city.state_code.unique()\n",
    "\n",
    "print(states)\n",
    "print(state_code)\n",
    "\n",
    "\n",
    "\n",
    "#total population state wise\n",
    "tot_pop_state_wise = (city.groupby(city.state_code).sum()).population_total\n",
    "tot_pop_state_wise = tot_pop_state_wise[state_code]\n",
    "print(tot_pop_state_wise)\n",
    "\n",
    "\n",
    "\n",
    "#male pop state wise\n",
    "male_pop_state_wise = (city.groupby(city.state_code).sum()).population_male\n",
    "male_pop_state_wise = male_pop_state_wise[state_code]\n",
    "print(male_pop_state_wise)\n",
    "\n",
    "\n",
    "\n",
    "#female pop state wise\n",
    "female_pop_state_wise = (city.groupby(city.state_code).sum()).population_female\n",
    "female_pop_state_wise = female_pop_state_wise[state_code]\n",
    "print(female_pop_state_wise)\n",
    "\n",
    "#print(city.population_male[city.state_code == 28].sum())\n",
    "states.size"
   ]
  },
  {
   "cell_type": "code",
   "execution_count": 4,
   "metadata": {},
   "outputs": [
    {
     "data": {
      "text/plain": [
       "state_code\n",
       "1      1804987\n",
       "2       169758\n",
       "3      5821876\n",
       "4       960787\n",
       "5      1340397\n",
       "6      5952223\n",
       "7     13481997\n",
       "8     10443016\n",
       "9     25302925\n",
       "10     6714516\n",
       "13      123777\n",
       "14      264986\n",
       "15      291822\n",
       "16      399688\n",
       "17      143007\n",
       "18     1391154\n",
       "19    18063509\n",
       "20     4278259\n",
       "21     3003234\n",
       "22     3137918\n",
       "23    11023091\n",
       "24    17835049\n",
       "27    37722136\n",
       "28    18171615\n",
       "29    15799896\n",
       "32     2755973\n",
       "33    13879395\n",
       "34      541801\n",
       "35      100608\n",
       "Name: population_total, dtype: int64"
      ]
     },
     "execution_count": 4,
     "metadata": {},
     "output_type": "execute_result"
    }
   ],
   "source": [
    "(city.groupby(city.state_code).sum()).population_total"
   ]
  },
  {
   "cell_type": "code",
   "execution_count": null,
   "metadata": {
    "collapsed": true
   },
   "outputs": [],
   "source": []
  },
  {
   "cell_type": "code",
   "execution_count": 19,
   "metadata": {},
   "outputs": [
    {
     "data": {
      "text/plain": [
       "19961736"
      ]
     },
     "execution_count": 19,
     "metadata": {},
     "output_type": "execute_result"
    }
   ],
   "source": [
    "male_pop_state_wise.max()"
   ]
  },
  {
   "cell_type": "code",
   "execution_count": 27,
   "metadata": {},
   "outputs": [],
   "source": [
    "x = np.arange(1,59,2)\n",
    "x.shape\n",
    "y = np.arange(0,20000001,500000)"
   ]
  },
  {
   "cell_type": "code",
   "execution_count": 28,
   "metadata": {
    "collapsed": true
   },
   "outputs": [],
   "source": [
    "import numpy as np"
   ]
  },
  {
   "cell_type": "code",
   "execution_count": 30,
   "metadata": {},
   "outputs": [
    {
     "data": {
      "image/png": "[encoded data removed]",
      "text/plain": [
       "<matplotlib.figure.Figure at 0x9475c88>"
      ]
     },
     "metadata": {},
     "output_type": "display_data"
    }
   ],
   "source": [
    "import matplotlib.pyplot as plt\n",
    "fig,ax = plt.subplots(figsize=(20,50))\n",
    "ax.bar(x , male_pop_state_wise,width = 1.5)\n",
    "ax.set_yscale('linear')\n",
    "plt.xticks(x, states , rotation = 'vertical')\n",
    "plt.yticks(y)\n",
    "plt.show()"
   ]
  },
  {
   "cell_type": "code",
   "execution_count": null,
   "metadata": {
    "collapsed": true
   },
   "outputs": [],
   "source": []
  },
  {
   "cell_type": "code",
   "execution_count": null,
   "metadata": {
    "collapsed": true
   },
   "outputs": [],
   "source": []
  },
  {
   "cell_type": "code",
   "execution_count": null,
   "metadata": {
    "collapsed": true
   },
   "outputs": [],
   "source": []
  },
  {
   "cell_type": "code",
   "execution_count": null,
   "metadata": {
    "collapsed": true
   },
   "outputs": [],
   "source": []
  },
  {
   "cell_type": "code",
   "execution_count": null,
   "metadata": {
    "collapsed": true
   },
   "outputs": [],
   "source": []
  },
  {
   "cell_type": "code",
   "execution_count": 33,
   "metadata": {},
   "outputs": [
    {
     "data": {
      "image/png": "[encoded data removed]",
      "text/plain": [
       "<matplotlib.figure.Figure at 0x994ebe0>"
      ]
     },
     "metadata": {},
     "output_type": "display_data"
    }
   ],
   "source": [
    "\"\"\"\n",
    "========\n",
    "Barchart\n",
    "========\n",
    "\n",
    "A bar plot with errorbars and height labels on individual bars\n",
    "\"\"\"\n",
    "import numpy as np\n",
    "import matplotlib.pyplot as plt\n",
    "\n",
    "N = 5\n",
    "men_means = (20, 35, 30, 35, 27)\n",
    "men_std = (2, 3, 4, 1, 2)\n",
    "\n",
    "ind = np.arange(N)  # the x locations for the groups\n",
    "width = 0.35       # the width of the bars\n",
    "\n",
    "fig, ax = plt.subplots()\n",
    "rects1 = ax.bar(ind, men_means, width, color='r')\n",
    "\n",
    "women_means = (25, 32, 34, 20, 25)\n",
    "women_std = (3, 5, 2, 3, 3)\n",
    "rects2 = ax.bar(ind + width, women_means, width, color='y')\n",
    "\n",
    "# add some text for labels, title and axes ticks\n",
    "ax.set_ylabel('Scores')\n",
    "ax.set_title('Scores by group and gender')\n",
    "ax.set_xticks(ind + width / 2)\n",
    "ax.set_xticklabels(('G1', 'G2', 'G3', 'G4', 'G5'))\n",
    "\n",
    "ax.legend((rects1[0], rects2[0]), ('Men', 'Women'))\n",
    "\n",
    "\n",
    "def autolabel(rects):\n",
    "    \"\"\"\n",
    "    Attach a text label above each bar displaying its height\n",
    "    \"\"\"\n",
    "    for rect in rects:\n",
    "        height = rect.get_height()\n",
    "        ax.text(rect.get_x() + rect.get_width()/2., 1.05*height,\n",
    "                '%d' % int(height),\n",
    "                ha='center', va='bottom')\n",
    "\n",
    "autolabel(rects1)\n",
    "autolabel(rects2)\n",
    "\n",
    "plt.show()"
   ]
  },
  {
   "cell_type": "code",
   "execution_count": null,
   "metadata": {
    "collapsed": true
   },
   "outputs": [],
   "source": []
  },
  {
   "cell_type": "code",
   "execution_count": null,
   "metadata": {
    "collapsed": true
   },
   "outputs": [],
   "source": []
  },
  {
   "cell_type": "code",
   "execution_count": null,
   "metadata": {
    "collapsed": true
   },
   "outputs": [],
   "source": []
  },
  {
   "cell_type": "code",
   "execution_count": 42,
   "metadata": {},
   "outputs": [
    {
     "data": {
      "image/png": "[encoded data removed]",
      "text/plain": [
       "<matplotlib.figure.Figure at 0x9a6d278>"
      ]
     },
     "metadata": {},
     "output_type": "display_data"
    }
   ],
   "source": []
  },
  {
   "cell_type": "code",
   "execution_count": null,
   "metadata": {
    "collapsed": true
   },
   "outputs": [],
   "source": []
  }
 ],
 "metadata": {
  "kernelspec": {
   "display_name": "Python 3",
   "language": "python",
   "name": "python3"
  },
  "language_info": {
   "codemirror_mode": {
    "name": "ipython",
    "version": 3
   },
   "file_extension": ".py",
   "mimetype": "text/x-python",
   "name": "python",
   "nbconvert_exporter": "python",
   "pygments_lexer": "ipython3",
   "version": "3.6.1"
  }
 },
 "nbformat": 4,
 "nbformat_minor": 2
}
