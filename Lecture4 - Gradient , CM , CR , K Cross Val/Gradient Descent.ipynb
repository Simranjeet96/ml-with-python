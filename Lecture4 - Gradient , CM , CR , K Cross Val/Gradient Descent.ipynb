{
 "cells": [
  {
   "cell_type": "code",
   "execution_count": 21,
   "metadata": {},
   "outputs": [
    {
     "data": {
      "text/plain": [
       "array([ 10.17729341])"
      ]
     },
     "execution_count": 21,
     "metadata": {},
     "output_type": "execute_result"
    }
   ],
   "source": [
    "import numpy as np\n",
    "np.random.uniform(high=10.0,low=12.0,size=(1,))"
   ]
  },
  {
   "cell_type": "code",
   "execution_count": 2,
   "metadata": {
    "collapsed": true
   },
   "outputs": [],
   "source": [
    "def grad_solve(curr_m , curr_b ,points, learningRate):\n",
    "    b_grad=0\n",
    "    m_grad=0\n",
    "    new_b=0\n",
    "    new_m=0\n",
    "    b_grad=np.float64(b_grad)\n",
    "    m_grad=np.float64(m_grad)\n",
    "    new_b=np.float64(new_b)\n",
    "    new_m=np.float64(new_m)\n",
    "    curr_m=np.float64(curr_m)\n",
    "    curr_b=np.float64(curr_b)\n",
    "    \n",
    "    N = len(points)\n",
    "    for i in range(len(points)):\n",
    "        x = points[i,0]\n",
    "        y = points[i,1]\n",
    "        b_grad += (-2) * (y - (curr_m*x + curr_b))\n",
    "        m_grad += (-2) * x *(y - (curr_m*x + curr_b))\n",
    "    new_b = curr_b-(learningRate * b_grad)\n",
    "    new_m = curr_m-(learningRate * m_grad)\n",
    "    return [new_b , new_m]\n",
    "        \n",
    "    "
   ]
  },
  {
   "cell_type": "code",
   "execution_count": 3,
   "metadata": {
    "collapsed": true
   },
   "outputs": [],
   "source": [
    "def grad_runner(m,b,points,iter,LR):\n",
    "    b=np.float64(b)\n",
    "    m=np.float64(m)\n",
    "    for i in range(iter):\n",
    "        b,m = grad_solve(m,b,points,LR)\n",
    "    return [b,m]        "
   ]
  },
  {
   "cell_type": "code",
   "execution_count": 4,
   "metadata": {
    "collapsed": true
   },
   "outputs": [],
   "source": [
    "def cost(m,b,points):\n",
    "    total = 0\n",
    "    total=np.float64(total)\n",
    "    for i in range(len(points)):\n",
    "        x = points[i,0]\n",
    "        y = points[i,1]\n",
    "        total += (y - (m*x + b))**2\n",
    "    return total"
   ]
  },
  {
   "cell_type": "code",
   "execution_count": 5,
   "metadata": {},
   "outputs": [
    {
     "data": {
      "text/plain": [
       "0     53.426804\n",
       "1     61.530358\n",
       "2     47.475640\n",
       "3     59.813208\n",
       "4     55.142188\n",
       "5     52.211797\n",
       "6     39.299567\n",
       "7     48.105042\n",
       "8     52.550014\n",
       "9     45.419730\n",
       "10    54.351635\n",
       "11    44.164049\n",
       "12    58.168471\n",
       "13    56.727208\n",
       "14    48.955889\n",
       "15    44.687196\n",
       "16    60.297327\n",
       "17    45.618644\n",
       "18    38.816818\n",
       "19    66.189817\n",
       "20    65.416052\n",
       "21    47.481209\n",
       "22    41.575643\n",
       "23    51.845187\n",
       "24    59.370822\n",
       "25    57.310003\n",
       "26    63.615561\n",
       "27    46.737619\n",
       "28    50.556760\n",
       "29    52.223996\n",
       "        ...    \n",
       "69    31.588117\n",
       "70    53.660932\n",
       "71    46.682229\n",
       "72    43.107820\n",
       "73    70.346076\n",
       "74    44.492856\n",
       "75    57.504533\n",
       "76    36.930077\n",
       "77    55.805733\n",
       "78    38.954769\n",
       "79    56.901215\n",
       "80    56.868901\n",
       "81    34.333125\n",
       "82    59.049741\n",
       "83    57.788224\n",
       "84    54.282329\n",
       "85    51.088720\n",
       "86    50.282836\n",
       "87    44.211742\n",
       "88    38.005488\n",
       "89    32.940480\n",
       "90    53.691640\n",
       "91    68.765734\n",
       "92    46.230966\n",
       "93    68.319361\n",
       "94    50.030174\n",
       "95    49.239765\n",
       "96    50.039576\n",
       "97    48.149859\n",
       "98    25.128485\n",
       "Name: 0, Length: 99, dtype: float64"
      ]
     },
     "execution_count": 5,
     "metadata": {},
     "output_type": "execute_result"
    }
   ],
   "source": [
    "import pandas as pd\n",
    "pt = pd.read_csv('data.csv')\n",
    "pt.columns=0,1\n",
    "pt[0]"
   ]
  },
  {
   "cell_type": "code",
   "execution_count": 30,
   "metadata": {
    "collapsed": true
   },
   "outputs": [],
   "source": [
    "points = np.array(pt)\n",
    "np.float(cost1)\n",
    "cost1=10000000"
   ]
  },
  {
   "cell_type": "code",
   "execution_count": 31,
   "metadata": {},
   "outputs": [
    {
     "name": "stderr",
     "output_type": "stream",
     "text": [
      "C:\\Users\\simra\\Anaconda3\\lib\\site-packages\\ipykernel_launcher.py:18: RuntimeWarning: overflow encountered in double_scalars\n",
      "C:\\Users\\simra\\Anaconda3\\lib\\site-packages\\ipykernel_launcher.py:20: RuntimeWarning: invalid value encountered in double_scalars\n"
     ]
    },
    {
     "ename": "TypeError",
     "evalue": "'int' object is not callable",
     "output_type": "error",
     "traceback": [
      "\u001b[1;31m---------------------------------------------------------------------------\u001b[0m",
      "\u001b[1;31mTypeError\u001b[0m                                 Traceback (most recent call last)",
      "\u001b[1;32m<ipython-input-31-73131568f582>\u001b[0m in \u001b[0;36m<module>\u001b[1;34m()\u001b[0m\n\u001b[0;32m      1\u001b[0m \u001b[1;32mfor\u001b[0m \u001b[0mi\u001b[0m \u001b[1;32min\u001b[0m \u001b[0mrange\u001b[0m\u001b[1;33m(\u001b[0m\u001b[1;36m10\u001b[0m\u001b[1;33m)\u001b[0m\u001b[1;33m:\u001b[0m\u001b[1;33m\u001b[0m\u001b[0m\n\u001b[0;32m      2\u001b[0m     \u001b[0mb1\u001b[0m\u001b[1;33m,\u001b[0m\u001b[0mm1\u001b[0m \u001b[1;33m=\u001b[0m \u001b[0mgrad_runner\u001b[0m\u001b[1;33m(\u001b[0m\u001b[0mnp\u001b[0m\u001b[1;33m.\u001b[0m\u001b[0mrandom\u001b[0m\u001b[1;33m.\u001b[0m\u001b[0muniform\u001b[0m\u001b[1;33m(\u001b[0m\u001b[0mlow\u001b[0m\u001b[1;33m=\u001b[0m\u001b[1;36m0.0\u001b[0m\u001b[1;33m,\u001b[0m\u001b[0mhigh\u001b[0m\u001b[1;33m=\u001b[0m\u001b[1;36m50.0\u001b[0m\u001b[1;33m,\u001b[0m\u001b[0msize\u001b[0m\u001b[1;33m=\u001b[0m\u001b[1;33m(\u001b[0m\u001b[1;36m1\u001b[0m\u001b[1;33m,\u001b[0m\u001b[1;33m)\u001b[0m\u001b[1;33m)\u001b[0m\u001b[1;33m,\u001b[0m\u001b[0mnp\u001b[0m\u001b[1;33m.\u001b[0m\u001b[0mrandom\u001b[0m\u001b[1;33m.\u001b[0m\u001b[0muniform\u001b[0m\u001b[1;33m(\u001b[0m\u001b[0mlow\u001b[0m\u001b[1;33m=\u001b[0m\u001b[1;36m0.0\u001b[0m\u001b[1;33m,\u001b[0m\u001b[0mhigh\u001b[0m\u001b[1;33m=\u001b[0m\u001b[1;36m50.0\u001b[0m\u001b[1;33m,\u001b[0m\u001b[0msize\u001b[0m\u001b[1;33m=\u001b[0m\u001b[1;33m(\u001b[0m\u001b[1;36m1\u001b[0m\u001b[1;33m,\u001b[0m\u001b[1;33m)\u001b[0m\u001b[1;33m)\u001b[0m\u001b[1;33m,\u001b[0m\u001b[0mpoints\u001b[0m\u001b[1;33m,\u001b[0m\u001b[1;36m1000\u001b[0m\u001b[1;33m,\u001b[0m\u001b[1;36m0.00001\u001b[0m\u001b[1;33m)\u001b[0m\u001b[1;33m\u001b[0m\u001b[0m\n\u001b[1;32m----> 3\u001b[1;33m     \u001b[0mC\u001b[0m\u001b[1;33m=\u001b[0m\u001b[0mcost\u001b[0m\u001b[1;33m(\u001b[0m\u001b[0mm1\u001b[0m\u001b[1;33m,\u001b[0m\u001b[0mb1\u001b[0m\u001b[1;33m,\u001b[0m\u001b[0mpoints\u001b[0m\u001b[1;33m)\u001b[0m\u001b[1;33m\u001b[0m\u001b[0m\n\u001b[0m\u001b[0;32m      4\u001b[0m     \u001b[1;32mif\u001b[0m\u001b[1;33m(\u001b[0m\u001b[0mC\u001b[0m\u001b[1;33m<\u001b[0m\u001b[0mcost1\u001b[0m\u001b[1;33m)\u001b[0m\u001b[1;33m:\u001b[0m\u001b[1;33m\u001b[0m\u001b[0m\n\u001b[0;32m      5\u001b[0m         \u001b[0mb\u001b[0m\u001b[1;33m,\u001b[0m\u001b[0mm\u001b[0m\u001b[1;33m=\u001b[0m\u001b[0mb1\u001b[0m\u001b[1;33m,\u001b[0m\u001b[0mm1\u001b[0m\u001b[1;33m\u001b[0m\u001b[0m\n",
      "\u001b[1;31mTypeError\u001b[0m: 'int' object is not callable"
     ]
    }
   ],
   "source": [
    "for i in range(10):\n",
    "    b1,m1 = grad_runner(np.random.uniform(low=0.0,high=50.0,size=(1,)),np.random.uniform(low=0.0,high=50.0,size=(1,)),points,1000,0.00001)\n",
    "    C=cost(m1,b1,points)\n",
    "    if(C<cost1):\n",
    "        b,m=b1,m1\n",
    "        cost1=C\n",
    "print(cost1)        "
   ]
  },
  {
   "cell_type": "code",
   "execution_count": 8,
   "metadata": {},
   "outputs": [
    {
     "name": "stdout",
     "output_type": "stream",
     "text": [
      "1.48098488959\n",
      "0.0333577695\n"
     ]
    }
   ],
   "source": [
    "print(m)\n",
    "print(b)"
   ]
  },
  {
   "cell_type": "code",
   "execution_count": 9,
   "metadata": {
    "collapsed": true
   },
   "outputs": [],
   "source": [
    "import matplotlib.pyplot as py"
   ]
  },
  {
   "cell_type": "code",
   "execution_count": 10,
   "metadata": {
    "collapsed": true
   },
   "outputs": [],
   "source": [
    "y_pred = []\n",
    "for i in range(len(points)):\n",
    "    x = points[i,0]\n",
    "    y_pred.append(m*x + b)"
   ]
  },
  {
   "cell_type": "code",
   "execution_count": 11,
   "metadata": {},
   "outputs": [
    {
     "data": {
      "text/plain": [
       "[<matplotlib.lines.Line2D at 0x256056c9048>]"
      ]
     },
     "execution_count": 11,
     "metadata": {},
     "output_type": "execute_result"
    }
   ],
   "source": [
    "py.scatter(points[:,0],points[:,1],color = 'red')\n",
    "py.plot(points[:,0] , y_pred[:],color = 'green')"
   ]
  },
  {
   "cell_type": "code",
   "execution_count": 12,
   "metadata": {},
   "outputs": [
    {
     "data": {
      "image/png": "[encoded data removed]",
      "text/plain": [
       "<matplotlib.figure.Figure at 0x256056c9080>"
      ]
     },
     "metadata": {},
     "output_type": "display_data"
    }
   ],
   "source": [
    "py.show()"
   ]
  },
  {
   "cell_type": "code",
   "execution_count": 13,
   "metadata": {
    "collapsed": true
   },
   "outputs": [],
   "source": [
    "from sklearn.linear_model import LinearRegression\n",
    "clf = LinearRegression()"
   ]
  },
  {
   "cell_type": "code",
   "execution_count": 57,
   "metadata": {},
   "outputs": [
    {
     "data": {
      "text/plain": [
       "array([ 53.42680403,  61.53035803,  47.47563963,  59.81320787,\n",
       "        55.14218841,  52.21179669,  39.29956669,  48.10504169,\n",
       "        52.55001444,  45.41973014,  54.35163488,  44.1640495 ,\n",
       "        58.16847072,  56.72720806,  48.95588857,  44.68719623,\n",
       "        60.29732685,  45.61864377,  38.81681754,  66.18981661,\n",
       "        65.41605175,  47.48120861,  41.57564262,  51.84518691,\n",
       "        59.37082201,  57.31000344,  63.61556125,  46.73761941,\n",
       "        50.55676015,  52.22399609,  35.56783005,  42.43647694,\n",
       "        58.16454011,  57.50444762,  45.44053073,  61.89622268,\n",
       "        33.09383174,  36.43600951,  37.67565486,  44.55560838,\n",
       "        43.31828263,  50.07314563,  43.87061265,  62.99748075,\n",
       "        32.66904376,  40.16689901,  53.57507753,  33.86421497,\n",
       "        64.70713867,  38.11982403,  44.50253806,  40.59953838,\n",
       "        41.72067636,  51.08863468,  55.0780959 ,  41.37772653,\n",
       "        62.49469743,  49.20388754,  41.10268519,  41.18201611,\n",
       "        50.18638949,  52.37844622,  50.13548549,  33.64470601,\n",
       "        39.55790122,  56.13038882,  57.36205213,  60.26921439,\n",
       "        35.67809389,  31.588117  ,  53.66093226,  46.68222865,\n",
       "        43.10782022,  70.34607562,  44.49285588,  57.5045333 ,\n",
       "        36.93007661,  55.80573336,  38.95476907,  56.9012147 ,\n",
       "        56.86890066,  34.3331247 ,  59.04974121,  57.78822399,\n",
       "        54.28232871,  51.0887199 ,  50.28283635,  44.21174175,\n",
       "        38.00548801,  32.94047994,  53.69163957,  68.76573427,\n",
       "        46.2309665 ,  68.31936082,  50.03017434,  49.23976534,\n",
       "        50.03957594,  48.14985889,  25.12848465])"
      ]
     },
     "execution_count": 57,
     "metadata": {},
     "output_type": "execute_result"
    }
   ],
   "source": [
    "x=np.array(pt[0])\n",
    "x"
   ]
  },
  {
   "cell_type": "code",
   "execution_count": 58,
   "metadata": {},
   "outputs": [
    {
     "data": {
      "text/plain": [
       "LinearRegression(copy_X=True, fit_intercept=True, n_jobs=1, normalize=False)"
      ]
     },
     "execution_count": 58,
     "metadata": {},
     "output_type": "execute_result"
    }
   ],
   "source": [
    "clf.fit(np.array(pt[0]).reshape(-1,1),np.array(pt[1]).reshape(-1,1))"
   ]
  },
  {
   "cell_type": "code",
   "execution_count": 59,
   "metadata": {},
   "outputs": [
    {
     "data": {
      "text/plain": [
       "array([[ 1.28735737]])"
      ]
     },
     "execution_count": 59,
     "metadata": {},
     "output_type": "execute_result"
    }
   ],
   "source": [
    "clf.coef_"
   ]
  },
  {
   "cell_type": "code",
   "execution_count": null,
   "metadata": {
    "collapsed": true
   },
   "outputs": [],
   "source": []
  }
 ],
 "metadata": {
  "kernelspec": {
   "display_name": "Python 3",
   "language": "python",
   "name": "python3"
  },
  "language_info": {
   "codemirror_mode": {
    "name": "ipython",
    "version": 3
   },
   "file_extension": ".py",
   "mimetype": "text/x-python",
   "name": "python",
   "nbconvert_exporter": "python",
   "pygments_lexer": "ipython3",
   "version": "3.6.1"
  }
 },
 "nbformat": 4,
 "nbformat_minor": 2
}
