{
 "cells": [
  {
   "cell_type": "code",
   "execution_count": 79,
   "metadata": {
    "collapsed": true
   },
   "outputs": [],
   "source": [
    "from collections import Counter"
   ]
  },
  {
   "cell_type": "code",
   "execution_count": 80,
   "metadata": {
    "collapsed": true
   },
   "outputs": [],
   "source": [
    "def cal_distance(x,y):\n",
    "    return (((x-y)**2).sum())**0.5"
   ]
  },
  {
   "cell_type": "code",
   "execution_count": 81,
   "metadata": {},
   "outputs": [],
   "source": [
    "def predictKNN(xtrain,ytrain,xtest,k):\n",
    "    distances = [];\n",
    "    for i in range(xtrain.shape[0]):\n",
    "        d = cal_distance(xtrain[i],xtest)\n",
    "        distances.append((d,i))\n",
    "    \n",
    "    distances.sort()\n",
    "    distances = distances[:k]\n",
    "    ytraincorres = [ytrain[distances[i][1]] for i in range(len(distances))]\n",
    "    \n",
    "    return (Counter(ytraincorres).most_common(1))[0][0]"
   ]
  },
  {
   "cell_type": "code",
   "execution_count": 82,
   "metadata": {
    "collapsed": true
   },
   "outputs": [],
   "source": [
    "def KNNScratch(xtrain,ytrain,xtest,k):\n",
    "    ytest = []\n",
    "    for i in range(xtest.shape[0]):\n",
    "        ytest.append(predictKNN(xtrain,ytrain,xtest[i],k))\n",
    "        \n",
    "    return ytest    "
   ]
  },
  {
   "cell_type": "code",
   "execution_count": 94,
   "metadata": {
    "collapsed": true
   },
   "outputs": [],
   "source": [
    "def score(ytest,ypred):\n",
    "    ytest_mean = ytest.mean()\n",
    "    \n",
    "    num = ((ytest-ypred)**2).sum()\n",
    "    den = ((ytest-ytest_mean)**2).sum()\n",
    "    \n",
    "    return 1 - num/den"
   ]
  },
  {
   "cell_type": "code",
   "execution_count": 84,
   "metadata": {},
   "outputs": [],
   "source": [
    "from sklearn import datasets\n",
    "from sklearn.neighbors import KNeighborsClassifier\n",
    "from sklearn import cross_validation"
   ]
  },
  {
   "cell_type": "code",
   "execution_count": 85,
   "metadata": {
    "collapsed": true
   },
   "outputs": [],
   "source": [
    "dataset = datasets.load_breast_cancer()\n",
    "xtrain,xtest,ytrain,ytest = cross_validation.train_test_split(dataset.data,dataset.target)"
   ]
  },
  {
   "cell_type": "code",
   "execution_count": 86,
   "metadata": {
    "collapsed": true
   },
   "outputs": [],
   "source": [
    "from sklearn.model_selection import cross_val_score\n",
    "from sklearn.model_selection import KFold"
   ]
  },
  {
   "cell_type": "code",
   "execution_count": 87,
   "metadata": {},
   "outputs": [
    {
     "data": {
      "text/plain": [
       "[<matplotlib.lines.Line2D at 0x411ecc0>]"
      ]
     },
     "execution_count": 87,
     "metadata": {},
     "output_type": "execute_result"
    }
   ],
   "source": [
    "y=[]\n",
    "x=[]\n",
    "for i in range(1 ,16, 2) :\n",
    "    x.append(i)\n",
    "    KNN = KNeighborsClassifier(n_neighbors=i)\n",
    "    score = cross_val_score(KNN,xtrain,ytrain,cv=KFold(shuffle=True,n_splits=10))\n",
    "    y.append(score.mean())\n",
    "\n",
    "\n",
    "import matplotlib.pyplot as plt   \n",
    "plt.plot(x,y)    "
   ]
  },
  {
   "cell_type": "code",
   "execution_count": 88,
   "metadata": {},
   "outputs": [
    {
     "data": {
      "text/plain": [
       "0.93006993006993011"
      ]
     },
     "execution_count": 88,
     "metadata": {},
     "output_type": "execute_result"
    }
   ],
   "source": [
    "k = x[y.index(max(y))]\n",
    "KNN = KNeighborsClassifier(n_neighbors=k)\n",
    "KNN.fit(xtrain,ytrain)\n",
    "ypred = KNN.predict(xtest)\n",
    "KNN.score(xtest,ytest)"
   ]
  },
  {
   "cell_type": "code",
   "execution_count": 92,
   "metadata": {},
   "outputs": [],
   "source": [
    "ypred_scatch = KNNScratch(xtrain,ytrain,xtest,k)"
   ]
  },
  {
   "cell_type": "code",
   "execution_count": 95,
   "metadata": {},
   "outputs": [
    {
     "data": {
      "text/plain": [
       "0.70245526425301696"
      ]
     },
     "execution_count": 95,
     "metadata": {},
     "output_type": "execute_result"
    }
   ],
   "source": [
    "score(ytest,ypred_scatch)"
   ]
  }
 ],
 "metadata": {
  "kernelspec": {
   "display_name": "Python 3",
   "language": "python",
   "name": "python3"
  },
  "language_info": {
   "codemirror_mode": {
    "name": "ipython",
    "version": 3
   },
   "file_extension": ".py",
   "mimetype": "text/x-python",
   "name": "python",
   "nbconvert_exporter": "python",
   "pygments_lexer": "ipython3",
   "version": "3.6.1"
  }
 },
 "nbformat": 4,
 "nbformat_minor": 2
}
