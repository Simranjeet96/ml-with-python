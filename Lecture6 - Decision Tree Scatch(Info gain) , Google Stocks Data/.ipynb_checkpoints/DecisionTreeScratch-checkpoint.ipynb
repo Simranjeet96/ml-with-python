{
 "cells": [
  {
   "cell_type": "code",
   "execution_count": 4,
   "metadata": {
    "collapsed": true
   },
   "outputs": [],
   "source": [
    "from sklearn import datasets\n",
    "import pandas as pd\n",
    "iris = datasets.load_iris()\n",
    "import numpy as np"
   ]
  },
  {
   "cell_type": "code",
   "execution_count": 27,
   "metadata": {},
   "outputs": [
    {
     "data": {
      "text/plain": [
       "array([ 5.1,  4.9,  4.7,  4.6,  5. ,  5.4,  4.4,  4.8,  4.3,  5.8,  5.7,\n",
       "        5.2,  5.5,  4.5,  5.3,  7. ,  6.4,  6.9,  6.5,  6.3,  6.6,  5.9,\n",
       "        6. ,  6.1,  5.6,  6.7,  6.2,  6.8,  7.1,  7.6,  7.3,  7.2,  7.7,\n",
       "        7.4,  7.9])"
      ]
     },
     "execution_count": 27,
     "metadata": {},
     "output_type": "execute_result"
    }
   ],
   "source": [
    "df = pd.DataFrame(iris.data)\n",
    "df.columns = iris.feature_names\n",
    "sp = df['sepal length (cm)']\n",
    "df['sepal length (cm)'].unique()\n",
    "c = df['sepal length (cm)'].unique()\n",
    "#len(c)\n",
    "c"
   ]
  },
  {
   "cell_type": "code",
   "execution_count": 30,
   "metadata": {},
   "outputs": [
    {
     "data": {
      "text/plain": [
       "<pandas.core.indexing._LocIndexer at 0x9b91b00>"
      ]
     },
     "execution_count": 30,
     "metadata": {},
     "output_type": "execute_result"
    }
   ],
   "source": [
    "sp.loc(c[0])"
   ]
  },
  {
   "cell_type": "code",
   "execution_count": null,
   "metadata": {
    "collapsed": true
   },
   "outputs": [],
   "source": [
    "def get_info_gain(x,y):\n",
    "     \n",
    "\n",
    "\n",
    "def split(x,y):\n",
    "    if len(y) == 0 or len(set(y)) == 1:\n",
    "        return target\n",
    "    \n",
    "    best_info_gain = 0\n",
    "    attr = -1\n",
    "    \n",
    "    for i in range(x.shape[1]):\n",
    "        info_gain = get_info_gain(x[i] , y)\n",
    "        if info_gain > best_info_gain:\n",
    "            best_info_gain = info_gain\n",
    "            attr = i\n",
    "                  \n",
    "        if best_info_gain < cutoff:\n",
    "            return y"
   ]
  },
  {
   "cell_type": "code",
   "execution_count": null,
   "metadata": {
    "collapsed": true
   },
   "outputs": [],
   "source": []
  }
 ],
 "metadata": {
  "kernelspec": {
   "display_name": "Python 3",
   "language": "python",
   "name": "python3"
  },
  "language_info": {
   "codemirror_mode": {
    "name": "ipython",
    "version": 3
   },
   "file_extension": ".py",
   "mimetype": "text/x-python",
   "name": "python",
   "nbconvert_exporter": "python",
   "pygments_lexer": "ipython3",
   "version": "3.6.1"
  }
 },
 "nbformat": 4,
 "nbformat_minor": 2
}
