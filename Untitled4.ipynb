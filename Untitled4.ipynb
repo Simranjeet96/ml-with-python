{
 "cells": [
  {
   "cell_type": "code",
   "execution_count": 17,
   "metadata": {},
   "outputs": [
    {
     "name": "stdout",
     "output_type": "stream",
     "text": [
      "[2 3 4 7 8] [0 1 5 6 9]\n",
      "[0 1 5 6 9] [2 3 4 7 8]\n",
      " 0 1 0 1 1   0 1 0 1 1 \n",
      "\n",
      "[1 2 3 5 7] [0 4 6 8 9]\n",
      "[0 4 6 8 9] [1 2 3 5 7]\n",
      " 0 0 1 1 1   1 0 1 0 1 \n",
      "\n",
      "[1 2 3 5 6] [0 4 7 8 9]\n",
      "[0 4 7 8 9] [1 2 3 5 6]\n",
      " 0 0 1 1 1   1 0 1 0 1 \n",
      "\n",
      "[4 5 7 8 9] [0 1 2 3 6]\n",
      "[0 1 2 3 6] [4 5 7 8 9]\n",
      " 0 1 0 1 1   0 0 1 1 1 \n",
      "\n",
      "[4 5 6 7 8] [0 1 2 3 9]\n",
      "[0 1 2 3 9] [4 5 6 7 8]\n",
      " 0 1 0 1 1   0 0 1 1 1 \n",
      "\n",
      "****************************************************************************************************\n",
      "<class 'generator'>\n",
      "****************************************************************************************************\n",
      "[4 5 7 8 9] [0 1 2 3 6]\n",
      "[0 1 2 3 6] [4 5 7 8 9]\n",
      "\n",
      "\n",
      "[4 5 7 8 9] [0 1 2 3 6]\n",
      "[0 1 2 3 6] [4 5 7 8 9]\n",
      "\n",
      "\n",
      "[4 5 7 8 9] [0 1 2 3 6]\n",
      "[0 1 2 3 6] [4 5 7 8 9]\n",
      "\n",
      "\n",
      "[4 5 7 8 9] [0 1 2 3 6]\n",
      "[0 1 2 3 6] [4 5 7 8 9]\n",
      "\n",
      "\n",
      "[4 5 7 8 9] [0 1 2 3 6]\n",
      "[0 1 2 3 6] [4 5 7 8 9]\n",
      "\n",
      "\n"
     ]
    }
   ],
   "source": [
    "from sklearn.model_selection import StratifiedKFold\n",
    "import numpy as np\n",
    "X = np.random.uniform(low=10,high=40,size=10)\n",
    "y = [0, 1, 0, 1, 0, 0, 1, 1, 1, 1]\n",
    "for i in range(5):\n",
    "\tskf = StratifiedKFold(n_splits=2,shuffle=True)\n",
    "\tfor train, test in skf.split(X, y):\n",
    "\t    print(\"%s %s\" % (train, test))\n",
    "\tprint(end=' ')\n",
    "\tfor i in train:    \n",
    "\t    print(y[i],end=' ')\n",
    "\tprint(end='  ')\n",
    "\tfor i in test:    \n",
    "              print(y[i],end=' ')\n",
    "\tprint(\"\\n\")    \n",
    "print(\"*\"*100)\n",
    "print(type(skf.split(X, y)))\n",
    "print(\"*\"*100)\n",
    "for i in range(5):\n",
    "\tskf = StratifiedKFold(n_splits=2)\n",
    "\tfor train, test in skf.split(X, y):\n",
    "\t    print(\"%s %s\" % (train, test))\n",
    "\tprint(\"\\n\")        \n"
   ]
  },
  {
   "cell_type": "code",
   "execution_count": 10,
   "metadata": {},
   "outputs": [
    {
     "data": {
      "text/plain": [
       "[]"
      ]
     },
     "execution_count": 10,
     "metadata": {},
     "output_type": "execute_result"
    }
   ],
   "source": [
    "a=[1,2,3]\n",
    "b=[3,4]\n",
    "a=[i for i in a if i not in b and i!=1 and i!=2]\n",
    "a"
   ]
  },
  {
   "cell_type": "code",
   "execution_count": 60,
   "metadata": {},
   "outputs": [
    {
     "data": {
      "image/png": "[encoded data removed]",
      "text/plain": [
       "<matplotlib.figure.Figure at 0x15a339ca7f0>"
      ]
     },
     "metadata": {},
     "output_type": "display_data"
    },
    {
     "data": {
      "image/png": "[encoded data removed]",
      "text/plain": [
       "<matplotlib.figure.Figure at 0x15a339f6eb8>"
      ]
     },
     "metadata": {},
     "output_type": "display_data"
    },
    {
     "data": {
      "image/png": "[encoded data removed]",
      "text/plain": [
       "<matplotlib.figure.Figure at 0x15a34b17ef0>"
      ]
     },
     "metadata": {},
     "output_type": "display_data"
    }
   ],
   "source": [
    "import matplotlib.pyplot as plt\n",
    "a=['red','green','blue']\n",
    "for i in range(3):\n",
    "    x=np.random.uniform(low=0,high=51,size=1000)\n",
    "    x.astype(int)\n",
    "    plt.figure()\n",
    "    plt.hist(x,bins=10,color=a[i])\n",
    "    plt.show()"
   ]
  }
 ],
 "metadata": {
  "kernelspec": {
   "display_name": "Python 3",
   "language": "python",
   "name": "python3"
  },
  "language_info": {
   "codemirror_mode": {
    "name": "ipython",
    "version": 3
   },
   "file_extension": ".py",
   "mimetype": "text/x-python",
   "name": "python",
   "nbconvert_exporter": "python",
   "pygments_lexer": "ipython3",
   "version": "3.6.1"
  }
 },
 "nbformat": 4,
 "nbformat_minor": 2
}
