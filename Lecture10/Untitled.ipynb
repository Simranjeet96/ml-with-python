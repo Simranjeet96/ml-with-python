{
 "cells": [
  {
   "cell_type": "code",
   "execution_count": 38,
   "metadata": {},
   "outputs": [],
   "source": [
    "from sklearn import datasets,decomposition,cross_validation\n",
    "from sklearn.preprocessing import StandardScaler\n",
    "import time\n",
    "from sklearn.svm import SVC\n",
    "from sklearn.model_selection import cross_val_score"
   ]
  },
  {
   "cell_type": "code",
   "execution_count": 16,
   "metadata": {},
   "outputs": [
    {
     "name": "stdout",
     "output_type": "stream",
     "text": [
      "dict_keys(['data', 'target', 'target_names', 'images', 'DESCR'])\n"
     ]
    }
   ],
   "source": [
    "digit = datasets.load_digits()\n",
    "print(digit.keys())"
   ]
  },
  {
   "cell_type": "code",
   "execution_count": 14,
   "metadata": {},
   "outputs": [],
   "source": [
    "scaler = StandardScaler()\n",
    "digits_scaled = scaler.fit_transform(digit.data)"
   ]
  },
  {
   "cell_type": "code",
   "execution_count": 17,
   "metadata": {},
   "outputs": [
    {
     "name": "stdout",
     "output_type": "stream",
     "text": [
      "[  7.34068882e+00   5.83224319e+00   5.15109308e+00   3.96402882e+00\n",
      "   2.96469447e+00   2.57061312e+00   2.40467051e+00   2.06752236e+00\n",
      "   1.82891482e+00   1.78852156e+00   1.69690133e+00   1.57200361e+00\n",
      "   1.38793502e+00   1.35857964e+00   1.32078995e+00   1.16764163e+00\n",
      "   1.08308372e+00   9.99222257e-01   9.73840703e-01   9.08406624e-01\n",
      "   8.22261435e-01   7.75878136e-01   7.11160784e-01   6.45164425e-01\n",
      "   5.94942728e-01   5.76180984e-01   5.26438434e-01   5.10352141e-01\n",
      "   4.86592882e-01   4.55347536e-01   4.42605112e-01   4.22065860e-01\n",
      "   3.98884207e-01   3.90883470e-01   3.60744308e-01   3.48409067e-01\n",
      "   3.19418450e-01   2.93902628e-01   2.76768749e-01   2.58129279e-01\n",
      "   2.47692373e-01   2.42221733e-01   2.17460915e-01   2.07880181e-01\n",
      "   1.99979555e-01   1.89729524e-01   1.76030929e-01   1.68658451e-01\n",
      "   1.58096714e-01   1.43034633e-01   1.33136683e-01   1.24194557e-01\n",
      "   1.19262580e-01   1.11824285e-01   1.02447296e-01   9.83539980e-02\n",
      "   9.01352434e-02   8.24222309e-02   7.63114529e-02   6.32543954e-02\n",
      "   5.03464076e-02   1.97320274e-31   3.90004859e-32   3.84053121e-32]\n"
     ]
    }
   ],
   "source": [
    "pca = decomposition.PCA()\n",
    "pca.fit(digits_scaled)\n",
    "variance = pca.explained_variance_\n",
    "print(variance)"
   ]
  },
  {
   "cell_type": "code",
   "execution_count": 30,
   "metadata": {},
   "outputs": [
    {
     "data": {
      "text/plain": [
       "25"
      ]
     },
     "execution_count": 30,
     "metadata": {},
     "output_type": "execute_result"
    }
   ],
   "source": [
    "tot_sum = variance.sum()\n",
    "sum1 = 0\n",
    "count = 0\n",
    "for i in range(len(variance)):\n",
    "    sum1= sum1 + variance[len(variance)-i-1]\n",
    "    temp = sum1 / tot_sum\n",
    "    count = count + 1\n",
    "    if temp > 0.05:\n",
    "        break\n",
    "        \n",
    "count       "
   ]
  },
  {
   "cell_type": "code",
   "execution_count": 31,
   "metadata": {
    "collapsed": true
   },
   "outputs": [],
   "source": [
    "pca.n_components = len(variance) - count\n",
    "digits_pca = pca.fit_transform(digits_scaled)"
   ]
  },
  {
   "cell_type": "code",
   "execution_count": 48,
   "metadata": {},
   "outputs": [
    {
     "name": "stdout",
     "output_type": "stream",
     "text": [
      "0.975\n",
      "0.979787929517\n",
      "2.5026257038116455\n"
     ]
    }
   ],
   "source": [
    "#Before PCA\n",
    "\n",
    "\n",
    "start = time.time()\n",
    "svc = SVC()\n",
    "x_train , x_test , y_train , y_test = cross_validation.train_test_split(digits_scaled , digit.target , test_size = 0.2)\n",
    "score = cross_val_score(svc,digits_scaled , digit.target)\n",
    "score = cross_val_score(svc,x_train,y_train)\n",
    "svc.fit(x_train,y_train)\n",
    "print(svc.score(x_test , y_test))\n",
    "print(score.mean())\n",
    "end = time.time()\n",
    "print(end-start)"
   ]
  },
  {
   "cell_type": "code",
   "execution_count": 49,
   "metadata": {},
   "outputs": [
    {
     "name": "stdout",
     "output_type": "stream",
     "text": [
      "0.977777777778\n",
      "0.976362105991\n",
      "0.9938066005706787\n"
     ]
    }
   ],
   "source": [
    "#Before PCA\n",
    "\n",
    "\n",
    "start = time.time()\n",
    "svc = SVC()\n",
    "x_train , x_test , y_train , y_test = cross_validation.train_test_split(digits_pca , digit.target , test_size = 0.2)\n",
    "#score = cross_val_score(svc,digits_scaled , digit.target)\n",
    "score = cross_val_score(svc,x_train,y_train)\n",
    "svc.fit(x_train,y_train)\n",
    "print(svc.score(x_test , y_test))\n",
    "print(score.mean())\n",
    "end = time.time()\n",
    "print(end-start)"
   ]
  },
  {
   "cell_type": "code",
   "execution_count": 52,
   "metadata": {},
   "outputs": [
    {
     "name": "stderr",
     "output_type": "stream",
     "text": [
      "C:\\Users\\Prateek Jain\\Anaconda3\\lib\\site-packages\\sklearn\\preprocessing\\data.py:586: DeprecationWarning: Passing 1d arrays as data is deprecated in 0.17 and will raise ValueError in 0.19. Reshape your data either using X.reshape(-1, 1) if your data has a single feature or X.reshape(1, -1) if it contains a single sample.\n",
      "  warnings.warn(DEPRECATION_MSG_1D, DeprecationWarning)\n",
      "C:\\Users\\Prateek Jain\\Anaconda3\\lib\\site-packages\\sklearn\\preprocessing\\data.py:649: DeprecationWarning: Passing 1d arrays as data is deprecated in 0.17 and will raise ValueError in 0.19. Reshape your data either using X.reshape(-1, 1) if your data has a single feature or X.reshape(1, -1) if it contains a single sample.\n",
      "  warnings.warn(DEPRECATION_MSG_1D, DeprecationWarning)\n"
     ]
    },
    {
     "data": {
      "text/plain": [
       "array([ 0.])"
      ]
     },
     "execution_count": 52,
     "metadata": {},
     "output_type": "execute_result"
    }
   ],
   "source": [
    "x = [4]\n",
    "x1 = scaler.fit_transform(x)\n",
    "x1"
   ]
  },
  {
   "cell_type": "code",
   "execution_count": null,
   "metadata": {
    "collapsed": true
   },
   "outputs": [],
   "source": []
  }
 ],
 "metadata": {
  "kernelspec": {
   "display_name": "Python 3",
   "language": "python",
   "name": "python3"
  },
  "language_info": {
   "codemirror_mode": {
    "name": "ipython",
    "version": 3
   },
   "file_extension": ".py",
   "mimetype": "text/x-python",
   "name": "python",
   "nbconvert_exporter": "python",
   "pygments_lexer": "ipython3",
   "version": "3.6.1"
  }
 },
 "nbformat": 4,
 "nbformat_minor": 2
}
