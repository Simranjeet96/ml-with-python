{
 "cells": [
  {
   "cell_type": "code",
   "execution_count": 36,
   "metadata": {},
   "outputs": [
    {
     "name": "stdout",
     "output_type": "stream",
     "text": [
      "[0 0 0 0 0 0 0 0 0 0 0 0 0 0 0 0 0 0 0 1 1 1 0 0 0 0 0 0 0 0 0 0 0 0 0 0 0\n",
      " 1 0 0 0 0 0 0 0 0 1 0 1 1 1 1 1 0 0 1 0 0 1 1 1 1 0 1 0 0 1 1 1 1 0 1 0 0\n",
      " 1 0 1 0 0 1 1 1 0 0 1 0 0 0 1 1 1 0 1 1 0 0 1 1 1 0 0 1 1 1 1 0 1 1 0 1 1\n",
      " 1 1 1 1 1 1 0 0 0 1 0 0 1 1 1 0 0 1 0 1 0 0 1 0 0 1 1 0 1 1 0 1 1 1 1 0 1\n",
      " 1 1 1 1 1 1 1 1 0 1 1 1 1 0 0 1 0 1 1 0 0 1 1 0 0 1 1 1 1 0 1 1 0 0 0 1 0\n",
      " 1 0 1 1 1 0 1 1 0 0 1 0 0 0 0 1 0 0 0 1 0 1 0 1 1 0 1 0 0 0 0 1 1 0 0 1 1\n",
      " 1 0 1 1 1 1 1 0 0 1 1 0 1 1 0 0 1 0 1 1 1 1 0 1 1 1 1 1 0 1 0 0 0 0 0 0 0\n",
      " 0 0 0 0 0 0 0 1 1 1 1 1 1 0 1 0 1 1 0 1 1 0 1 0 0 1 1 1 1 1 1 1 1 1 1 1 1\n",
      " 1 0 1 1 0 1 0 1 1 1 1 1 1 1 1 1 1 1 1 1 1 0 1 1 1 0 1 0 1 1 1 1 0 0 0 1 1\n",
      " 1 1 0 1 0 1 0 1 1 1 0 1 1 1 1 1 1 1 0 0 0 1 1 1 1 1 1 1 1 1 1 1 0 0 1 0 0\n",
      " 0 1 0 0 1 1 1 1 1 0 1 1 1 1 1 0 1 1 1 0 1 1 0 0 1 1 1 1 1 1 0 1 1 1 1 1 1\n",
      " 1 0 1 1 1 1 1 0 1 1 0 1 1 1 1 1 1 1 1 1 1 1 1 0 1 0 0 1 0 1 1 1 1 1 0 1 1\n",
      " 0 1 0 1 1 0 1 0 1 1 1 1 1 1 1 1 0 0 1 1 1 1 1 1 0 1 1 1 1 1 1 1 1 1 1 0 1\n",
      " 1 1 1 1 1 1 0 1 0 1 1 0 1 1 1 1 1 0 0 1 0 1 0 1 1 1 1 1 0 1 1 0 1 0 1 0 0\n",
      " 1 1 1 0 1 1 1 1 1 1 1 1 1 1 1 0 1 0 0 1 1 1 1 1 1 1 1 1 1 1 1 1 1 1 1 1 1\n",
      " 1 1 1 1 1 1 1 0 0 0 0 0 0 1]\n"
     ]
    }
   ],
   "source": [
    "from sklearn import datasets\n",
    "import numpy as np\n",
    "from sklearn import cross_validation\n",
    "from sklearn.neighbors import KNeighborsClassifier\n",
    "dt=datasets.load_breast_cancer()\n",
    "print(dt.target)"
   ]
  },
  {
   "cell_type": "code",
   "execution_count": 2,
   "metadata": {},
   "outputs": [
    {
     "name": "stdout",
     "output_type": "stream",
     "text": [
      "66 0 65 4\n"
     ]
    }
   ],
   "source": [
    "'''KNN=KNeighborsClassifier(n_neighbors=9)\n",
    "x_train,x_test,y_train,y_test=cross_validation.train_test_split(dt.data,dt.target,test_size=0.2)\n",
    "KNN.fit(x_train,y_train)\n",
    "a=KNN.predict(x_test)\n",
    "tp,tn,fp,fn=0,0,0,0\n",
    "for i in range(len(a)):\n",
    "    fn=fn+(a[i]!=y_test[i] and a[i] == 0)\n",
    "    tn=tp+(a[i]==y_test[i] & a[i] == 0)\n",
    "    fp=fp+(a[i]!=y_test[i] & a[i] == 1)\n",
    "    tp=tp+(a[i]==y_test[i] & a[i] == 1)\n",
    "print(tp,fp,tn,fn)\n",
    "'''"
   ]
  },
  {
   "cell_type": "markdown",
   "metadata": {},
   "source": [
    "# knn from scratch"
   ]
  },
  {
   "cell_type": "code",
   "execution_count": 27,
   "metadata": {
    "collapsed": true
   },
   "outputs": [],
   "source": [
    "import math\n",
    "from operator import itemgetter\n",
    "from collections import Counter\n",
    "def func(x_train,y_train,x_test,neighbor): # here x_test is single point\n",
    "    d=[]\n",
    "    for i in range(x_train.shape[0]):\n",
    "        sum=0\n",
    "        for j in range(x_train.shape[1]):\n",
    "            sum=sum+(x_train[i][j]-x_test[j])**2\n",
    "            d.append((sum,i))\n",
    "    d.sort()\n",
    "    y=[]\n",
    "    for i in range(neighbor):\n",
    "        y.append(y_train[d[i][1]])\n",
    "    return Counter(y).most_common(1)[0][0]\n",
    "    \n",
    "    "
   ]
  },
  {
   "cell_type": "code",
   "execution_count": 28,
   "metadata": {
    "collapsed": true
   },
   "outputs": [],
   "source": [
    "def caller(x_train,y_train,x_test,neighbor=3):\n",
    "    y_scratch=[]\n",
    "    for i in range(x_test.shape[0]):\n",
    "        y_scratch.append(func(x_train,y_train,x_test[i],neighbor))\n",
    "    return y_scratch"
   ]
  },
  {
   "cell_type": "markdown",
   "metadata": {},
   "source": [
    "# generators,iterators,list(generators)and range is not generator it is a object"
   ]
  },
  {
   "cell_type": "code",
   "execution_count": 69,
   "metadata": {},
   "outputs": [
    {
     "name": "stdout",
     "output_type": "stream",
     "text": [
      "(array([  1,   2,   3,   4,   7,   8,   9,  11,  13,  14,  15,  16,  17,\n",
      "        18,  20,  21,  23,  24,  25,  26,  27,  28,  29,  31,  32,  33,\n",
      "        34,  35,  36,  37,  39,  40,  41,  43,  44,  45,  46,  47,  51,\n",
      "        52,  53,  56,  57,  58,  59,  61,  62,  64,  65,  69,  70,  71,\n",
      "        72,  73,  74,  76,  77,  79,  80,  82,  85,  86,  87,  90,  91,\n",
      "        93,  95,  96,  99, 102, 105, 106, 107, 108, 109, 110, 112, 113,\n",
      "       114, 115, 116, 117, 119, 120, 121, 123, 124, 125, 126, 127, 128,\n",
      "       129, 130, 131, 133, 134, 135, 137, 138, 139, 140, 141, 145, 146,\n",
      "       149, 150, 151, 152, 153, 154, 156, 157, 158, 159, 160, 161, 163,\n",
      "       164, 165, 167, 168, 170, 172, 173, 174, 175, 177, 178, 180, 181,\n",
      "       183, 184, 186, 187, 188, 189, 191, 195, 196, 197, 198, 200, 202,\n",
      "       203, 204, 207, 209, 210, 211, 212, 213, 214, 216, 217, 218, 219,\n",
      "       220, 221, 222, 223, 224, 225, 227, 228, 230, 231, 232, 233, 234,\n",
      "       235, 236, 238, 239, 240, 241, 242, 244, 245, 248, 249, 250, 251,\n",
      "       252, 254, 255, 256, 257, 258, 261, 262, 263, 264, 265, 266, 267,\n",
      "       268, 269, 270, 271, 272, 273, 275, 276, 278, 279, 280, 283, 284,\n",
      "       285, 287, 288, 289, 290, 292, 293, 294, 295, 296, 298, 299, 301,\n",
      "       302, 303, 304, 305, 306, 307, 309, 310, 312, 313, 315, 317, 319,\n",
      "       321, 322, 323, 326, 327, 328, 330, 331, 332, 334, 335, 336, 337,\n",
      "       338, 339, 340, 341, 342, 343, 345, 346, 347, 348, 349, 350, 351,\n",
      "       353, 355, 357, 358, 359, 360, 362, 363, 365, 368, 369, 370, 372,\n",
      "       373, 374, 375, 376, 380, 381, 383, 384, 385, 386, 388, 389, 390,\n",
      "       391, 392, 393, 394, 395, 396, 397, 398, 399, 400, 401, 402, 404,\n",
      "       405, 407, 409, 410, 411, 412, 415, 416, 417, 418, 419, 420, 422,\n",
      "       424, 425, 426, 428, 429, 430, 431, 432, 433, 436, 437, 438, 439,\n",
      "       440, 441, 442, 444, 445, 447, 448, 449, 450, 451, 452, 453, 454,\n",
      "       456, 457, 458, 459, 461, 463, 464, 465, 466, 467, 468, 469, 470,\n",
      "       471, 473, 475, 476, 477, 478, 479, 480, 481, 482, 483, 484, 487,\n",
      "       489, 490, 492, 493, 494, 495, 496, 498, 499, 500, 501, 503, 504,\n",
      "       505, 506, 507, 508, 510, 511, 512, 513, 514, 515, 517, 518, 519,\n",
      "       520, 521, 522, 523, 524, 525, 526, 527, 528, 529, 530, 532, 533,\n",
      "       535, 536, 540, 541, 542, 543, 545, 546, 547, 548, 550, 551, 552,\n",
      "       553, 554, 555, 556, 557, 559, 560, 561, 562, 567]), array([  0,   5,   6,  10,  12,  19,  22,  30,  38,  42,  48,  49,  50,\n",
      "        54,  55,  60,  63,  66,  67,  68,  75,  78,  81,  83,  84,  88,\n",
      "        89,  92,  94,  97,  98, 100, 101, 103, 104, 111, 118, 122, 132,\n",
      "       136, 142, 143, 144, 147, 148, 155, 162, 166, 169, 171, 176, 179,\n",
      "       182, 185, 190, 192, 193, 194, 199, 201, 205, 206, 208, 215, 226,\n",
      "       229, 237, 243, 246, 247, 253, 259, 260, 274, 277, 281, 282, 286,\n",
      "       291, 297, 300, 308, 311, 314, 316, 318, 320, 324, 325, 329, 333,\n",
      "       344, 352, 354, 356, 361, 364, 366, 367, 371, 377, 378, 379, 382,\n",
      "       387, 403, 406, 408, 413, 414, 421, 423, 427, 434, 435, 443, 446,\n",
      "       455, 460, 462, 472, 474, 485, 486, 488, 491, 497, 502, 509, 516,\n",
      "       531, 534, 537, 538, 539, 544, 549, 558, 563, 564, 565, 566, 568]))\n"
     ]
    }
   ],
   "source": [
    "from sklearn.model_selection import StratifiedKFold\n",
    "skf = StratifiedKFold(n_splits=4,shuffle=True)\n",
    "a=np.ones(len(dt.target))\n",
    "indxtrain=list(skf.split(a,dt.target))[0]\n",
    "    \n",
    "'''x_train=x_train[indxtrain]\n",
    "y_train=y_train[indxtrain]\n",
    "x_test=x_test[indxtest]'''\n",
    "print(indxtrain)"
   ]
  },
  {
   "cell_type": "code",
   "execution_count": 6,
   "metadata": {
    "collapsed": true
   },
   "outputs": [],
   "source": [
    "answer=caller(x_train,y_train,x_test,neighbor=5)"
   ]
  },
  {
   "cell_type": "code",
   "execution_count": 7,
   "metadata": {
    "collapsed": true
   },
   "outputs": [],
   "source": [
    "upper=(answer==y_test).sum()"
   ]
  },
  {
   "cell_type": "code",
   "execution_count": 8,
   "metadata": {
    "collapsed": true
   },
   "outputs": [],
   "source": [
    "lower=len(y_test)"
   ]
  },
  {
   "cell_type": "code",
   "execution_count": 9,
   "metadata": {},
   "outputs": [
    {
     "data": {
      "text/plain": [
       "0.83333333333333337"
      ]
     },
     "execution_count": 9,
     "metadata": {},
     "output_type": "execute_result"
    }
   ],
   "source": [
    "upper/lower"
   ]
  },
  {
   "cell_type": "code",
   "execution_count": 10,
   "metadata": {},
   "outputs": [
    {
     "data": {
      "text/plain": [
       "array([5, 4, 3, 2, 1])"
      ]
     },
     "execution_count": 10,
     "metadata": {},
     "output_type": "execute_result"
    }
   ],
   "source": [
    "a=np.array(range(5))\n",
    "b=np.array(range(1,10,2))\n",
    "5-a"
   ]
  },
  {
   "cell_type": "code",
   "execution_count": 11,
   "metadata": {},
   "outputs": [
    {
     "data": {
      "text/plain": [
       "0.29675324675324677"
      ]
     },
     "execution_count": 11,
     "metadata": {},
     "output_type": "execute_result"
    }
   ],
   "source": [
    "b=((np.array(answer)-y_test)**2).sum()\n",
    "a=((y_test.mean()-y_test)**2).sum()\n",
    "1-(b/a)"
   ]
  },
  {
   "cell_type": "code",
   "execution_count": 73,
   "metadata": {},
   "outputs": [
    {
     "data": {
      "text/plain": [
       "[0, 1, 2]"
      ]
     },
     "execution_count": 73,
     "metadata": {},
     "output_type": "execute_result"
    }
   ],
   "source": [
    "list(range(3))"
   ]
  },
  {
   "cell_type": "code",
   "execution_count": 72,
   "metadata": {},
   "outputs": [
    {
     "name": "stdout",
     "output_type": "stream",
     "text": [
      "Help on range object:\n",
      "\n",
      "class range(object)\n",
      " |  range(stop) -> range object\n",
      " |  range(start, stop[, step]) -> range object\n",
      " |  \n",
      " |  Return an object that produces a sequence of integers from start (inclusive)\n",
      " |  to stop (exclusive) by step.  range(i, j) produces i, i+1, i+2, ..., j-1.\n",
      " |  start defaults to 0, and stop is omitted!  range(4) produces 0, 1, 2, 3.\n",
      " |  These are exactly the valid indices for a list of 4 elements.\n",
      " |  When step is given, it specifies the increment (or decrement).\n",
      " |  \n",
      " |  Methods defined here:\n",
      " |  \n",
      " |  __contains__(self, key, /)\n",
      " |      Return key in self.\n",
      " |  \n",
      " |  __eq__(self, value, /)\n",
      " |      Return self==value.\n",
      " |  \n",
      " |  __ge__(self, value, /)\n",
      " |      Return self>=value.\n",
      " |  \n",
      " |  __getattribute__(self, name, /)\n",
      " |      Return getattr(self, name).\n",
      " |  \n",
      " |  __getitem__(self, key, /)\n",
      " |      Return self[key].\n",
      " |  \n",
      " |  __gt__(self, value, /)\n",
      " |      Return self>value.\n",
      " |  \n",
      " |  __hash__(self, /)\n",
      " |      Return hash(self).\n",
      " |  \n",
      " |  __iter__(self, /)\n",
      " |      Implement iter(self).\n",
      " |  \n",
      " |  __le__(self, value, /)\n",
      " |      Return self<=value.\n",
      " |  \n",
      " |  __len__(self, /)\n",
      " |      Return len(self).\n",
      " |  \n",
      " |  __lt__(self, value, /)\n",
      " |      Return self<value.\n",
      " |  \n",
      " |  __ne__(self, value, /)\n",
      " |      Return self!=value.\n",
      " |  \n",
      " |  __new__(*args, **kwargs) from builtins.type\n",
      " |      Create and return a new object.  See help(type) for accurate signature.\n",
      " |  \n",
      " |  __reduce__(...)\n",
      " |      helper for pickle\n",
      " |  \n",
      " |  __repr__(self, /)\n",
      " |      Return repr(self).\n",
      " |  \n",
      " |  __reversed__(...)\n",
      " |      Return a reverse iterator.\n",
      " |  \n",
      " |  count(...)\n",
      " |      rangeobject.count(value) -> integer -- return number of occurrences of value\n",
      " |  \n",
      " |  index(...)\n",
      " |      rangeobject.index(value, [start, [stop]]) -> integer -- return index of value.\n",
      " |      Raise ValueError if the value is not present.\n",
      " |  \n",
      " |  ----------------------------------------------------------------------\n",
      " |  Data descriptors defined here:\n",
      " |  \n",
      " |  start\n",
      " |  \n",
      " |  step\n",
      " |  \n",
      " |  stop\n",
      "\n"
     ]
    }
   ],
   "source": [
    "type(skf.split(a,dt.target))\n",
    "help(range(1))"
   ]
  }
 ],
 "metadata": {
  "kernelspec": {
   "display_name": "Python 3",
   "language": "python",
   "name": "python3"
  },
  "language_info": {
   "codemirror_mode": {
    "name": "ipython",
    "version": 3
   },
   "file_extension": ".py",
   "mimetype": "text/x-python",
   "name": "python",
   "nbconvert_exporter": "python",
   "pygments_lexer": "ipython3",
   "version": "3.6.1"
  }
 },
 "nbformat": 4,
 "nbformat_minor": 2
}
