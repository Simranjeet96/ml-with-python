{
 "cells": [
  {
   "cell_type": "markdown",
   "metadata": {},
   "source": [
    "# Matrix Multiplication"
   ]
  },
  {
   "cell_type": "code",
   "execution_count": 3,
   "metadata": {},
   "outputs": [
    {
     "name": "stdout",
     "output_type": "stream",
     "text": [
      "2\n",
      "2\n",
      "2\n",
      "2\n",
      "1\n",
      "2\n",
      "3\n",
      "4\n",
      "1\n",
      "2\n",
      "3\n",
      "4\n",
      "[[7, 10], [15, 22]]\n"
     ]
    }
   ],
   "source": [
    "a = int(input())\n",
    "b = int(input())\n",
    "c = int(input())\n",
    "d = int(input())\n",
    "if not b == c :\n",
    "    print(\"Mul not possible\")\n",
    "else:\n",
    "    x = [[int(input()) for j in range(b)] for i in range(a)]\n",
    "    y = [[int(input()) for j in range(d)] for i in range(c)]\n",
    "    \n",
    "    z = []\n",
    "    for i in range(a):\n",
    "        z.append([])\n",
    "        for j in range(d):\n",
    "            sum = 0\n",
    "            for k in range(c):\n",
    "                sum += x[i][k]*y[k][j]\n",
    "            z[i].append(sum)\n",
    "            \n",
    "    print(z)            "
   ]
  },
  {
   "cell_type": "markdown",
   "metadata": {},
   "source": [
    "# Matrix Mul Numpy"
   ]
  },
  {
   "cell_type": "code",
   "execution_count": 12,
   "metadata": {},
   "outputs": [
    {
     "name": "stdout",
     "output_type": "stream",
     "text": [
      "[[7, 10], [15, 22]]\n"
     ]
    }
   ],
   "source": [
    "import numpy as np\n",
    "a = np.array([[1,2],[3,4]])\n",
    "b = np.array([[1,2],[3,4]])\n",
    "\n",
    "c=[]\n",
    "\n",
    "for i in range(a.shape[0]):\n",
    "    c.append([])\n",
    "    for j in range(b.shape[1]):\n",
    "        c[i].append((a[i]*b[:,j]).sum())\n",
    "        \n",
    "print(c)    \n"
   ]
  },
  {
   "cell_type": "markdown",
   "metadata": {},
   "source": [
    "# Transpose"
   ]
  },
  {
   "cell_type": "code",
   "execution_count": 21,
   "metadata": {},
   "outputs": [
    {
     "name": "stdout",
     "output_type": "stream",
     "text": [
      "[[1 3]\n",
      " [2 4]]\n"
     ]
    }
   ],
   "source": [
    "a = np.array([[1,2],[3,4]])\n",
    "b = np.zeros(a.shape,int)\n",
    "\n",
    "for i in range(a.shape[0]):\n",
    "    b[i] = a[:,i]\n",
    "    \n",
    "print(b)"
   ]
  },
  {
   "cell_type": "markdown",
   "metadata": {},
   "source": [
    "# Sum with carry"
   ]
  },
  {
   "cell_type": "code",
   "execution_count": 54,
   "metadata": {},
   "outputs": [
    {
     "data": {
      "text/plain": [
       "[1, 0, 0, 0]"
      ]
     },
     "execution_count": 54,
     "metadata": {},
     "output_type": "execute_result"
    }
   ],
   "source": [
    "a = np.array([9,9,9])\n",
    "b = np.array([1])\n",
    "c = []\n",
    "\n",
    "sum = 0;\n",
    "for i in range(b.shape[0]-1 , -1 , -1):\n",
    "    c.insert(0,(a[i] + b[i] + sum)%10)\n",
    "    sum = int((a[i] + b[i] + sum) / 10)         \n",
    "\n",
    "for i in range(a.shape[0]-b.shape[0]-1 , -1 , -1):        \n",
    "    c.insert(0,(a[i] + sum)%10)\n",
    "    sum = int((a[i] + sum) / 10)  \n",
    "    \n",
    "if not sum == 0:\n",
    "    c.insert(0,sum)\n",
    "c \n"
   ]
  },
  {
   "cell_type": "code",
   "execution_count": null,
   "metadata": {
    "collapsed": true
   },
   "outputs": [],
   "source": []
  }
 ],
 "metadata": {
  "kernelspec": {
   "display_name": "Python 3",
   "language": "python",
   "name": "python3"
  },
  "language_info": {
   "codemirror_mode": {
    "name": "ipython",
    "version": 3
   },
   "file_extension": ".py",
   "mimetype": "text/x-python",
   "name": "python",
   "nbconvert_exporter": "python",
   "pygments_lexer": "ipython3",
   "version": "3.6.1"
  }
 },
 "nbformat": 4,
 "nbformat_minor": 2
}
