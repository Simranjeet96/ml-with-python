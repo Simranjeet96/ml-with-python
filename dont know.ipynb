{
 "cells": [
  {
   "cell_type": "code",
   "execution_count": 3,
   "metadata": {
    "scrolled": true
   },
   "outputs": [
    {
     "data": {
      "text/plain": [
       "(array([[-0.5       , -0.49607843, -0.49215686, ...,  0.49215686,\n",
       "          0.49607843,  0.5       ],\n",
       "        [-0.5       , -0.49607843, -0.49215686, ...,  0.49215686,\n",
       "          0.49607843,  0.5       ],\n",
       "        [-0.5       , -0.49607843, -0.49215686, ...,  0.49215686,\n",
       "          0.49607843,  0.5       ],\n",
       "        ..., \n",
       "        [-0.5       , -0.49607843, -0.49215686, ...,  0.49215686,\n",
       "          0.49607843,  0.5       ],\n",
       "        [-0.5       , -0.49607843, -0.49215686, ...,  0.49215686,\n",
       "          0.49607843,  0.5       ],\n",
       "        [-0.5       , -0.49607843, -0.49215686, ...,  0.49215686,\n",
       "          0.49607843,  0.5       ]]),\n",
       " array([[-0.5       , -0.5       , -0.5       , ..., -0.5       ,\n",
       "         -0.5       , -0.5       ],\n",
       "        [-0.49607843, -0.49607843, -0.49607843, ..., -0.49607843,\n",
       "         -0.49607843, -0.49607843],\n",
       "        [-0.49215686, -0.49215686, -0.49215686, ..., -0.49215686,\n",
       "         -0.49215686, -0.49215686],\n",
       "        ..., \n",
       "        [ 0.49215686,  0.49215686,  0.49215686, ...,  0.49215686,\n",
       "          0.49215686,  0.49215686],\n",
       "        [ 0.49607843,  0.49607843,  0.49607843, ...,  0.49607843,\n",
       "          0.49607843,  0.49607843],\n",
       "        [ 0.5       ,  0.5       ,  0.5       , ...,  0.5       ,\n",
       "          0.5       ,  0.5       ]]))"
      ]
     },
     "execution_count": 3,
     "metadata": {},
     "output_type": "execute_result"
    }
   ],
   "source": [
    "import numpy as np\n",
    "import matplotlib.pyplot as plt\n",
    "\n",
    "freq = 100 \n",
    "def sine(x, phase=0, freq=freq):\n",
    "    return np.sin((freq * x + phase))\n",
    "\n",
    "dist = np.linspace(-0.5,0.5,256)\n",
    "x,y = np.meshgrid(dist, dist)\n",
    "grid = (x**2+y**2)\n",
    "\n",
    "testpattern = sine(grid, freq=freq)\n",
    "methods = [None, 'none', 'nearest', 'bilinear', 'bicubic', 'spline16',\n",
    "           'spline36', 'hanning', 'hamming', 'hermite', 'kaiser', 'quadric',\n",
    "           'catrom', 'gaussian', 'bessel', 'mitchell', 'sinc', 'lanczos']\n",
    "\n",
    "fig, axes = plt.subplots(3, 6, figsize=(96, 48))\n",
    "fig.subplots_adjust(hspace=0.3, wspace=0.05)\n",
    "\n",
    "for ax, interp_method in zip(axes.flat, methods):\n",
    "    ax.imshow(testpattern , interpolation=interp_method, cmap='gray')\n",
    "    ax.set_title(interp_method)\n",
    "\n",
    "x,y\n",
    "\n"
   ]
  },
  {
   "cell_type": "code",
   "execution_count": null,
   "metadata": {
    "collapsed": true
   },
   "outputs": [],
   "source": []
  },
  {
   "cell_type": "code",
   "execution_count": 2,
   "metadata": {
    "collapsed": true
   },
   "outputs": [],
   "source": [
    "path=\"D:\\DOCUMENTS\\ML A-Z - Hands On Python and R In Data Science\\02 -------------------------- Part 1 Data Preprocessing --------------------------\\attached_files\\012 Categorical Data\\Categorical-Data.zip\\Categorical_Data\\Data.csv\""
   ]
  },
  {
   "cell_type": "code",
   "execution_count": 3,
   "metadata": {
    "collapsed": true
   },
   "outputs": [],
   "source": [
    "path=path.replace(\"\\\\\",\"/\")"
   ]
  },
  {
   "cell_type": "code",
   "execution_count": 4,
   "metadata": {
    "scrolled": true
   },
   "outputs": [
    {
     "name": "stdout",
     "output_type": "stream",
     "text": [
      "D:/DOCUMENTS/ML A-Z - Hands On Python and R In Data Science\u0002 -------------------------- Part 1 Data Preprocessing --------------------------\u0007ttached_files\n",
      " Categorical Data/Categorical-Data.zip/Categorical_Data/Data.csv\n"
     ]
    }
   ],
   "source": [
    "print(path)"
   ]
  },
  {
   "cell_type": "code",
   "execution_count": 2,
   "metadata": {
    "collapsed": true
   },
   "outputs": [],
   "source": [
    "path1=\"D:/DOCUMENTS/Data.csv\""
   ]
  },
  {
   "cell_type": "code",
   "execution_count": 3,
   "metadata": {
    "scrolled": false
   },
   "outputs": [
    {
     "data": {
      "text/html": [
       "<div>\n",
       "<style>\n",
       "    .dataframe thead tr:only-child th {\n",
       "        text-align: right;\n",
       "    }\n",
       "\n",
       "    .dataframe thead th {\n",
       "        text-align: left;\n",
       "    }\n",
       "\n",
       "    .dataframe tbody tr th {\n",
       "        vertical-align: top;\n",
       "    }\n",
       "</style>\n",
       "<table border=\"1\" class=\"dataframe\">\n",
       "  <thead>\n",
       "    <tr style=\"text-align: right;\">\n",
       "      <th></th>\n",
       "      <th>Country</th>\n",
       "      <th>Age</th>\n",
       "      <th>Salary</th>\n",
       "      <th>Purchased</th>\n",
       "    </tr>\n",
       "  </thead>\n",
       "  <tbody>\n",
       "    <tr>\n",
       "      <th>0</th>\n",
       "      <td>France</td>\n",
       "      <td>44.0</td>\n",
       "      <td>72000.0</td>\n",
       "      <td>No</td>\n",
       "    </tr>\n",
       "    <tr>\n",
       "      <th>1</th>\n",
       "      <td>Spain</td>\n",
       "      <td>27.0</td>\n",
       "      <td>48000.0</td>\n",
       "      <td>Yes</td>\n",
       "    </tr>\n",
       "    <tr>\n",
       "      <th>2</th>\n",
       "      <td>Germany</td>\n",
       "      <td>30.0</td>\n",
       "      <td>54000.0</td>\n",
       "      <td>No</td>\n",
       "    </tr>\n",
       "    <tr>\n",
       "      <th>3</th>\n",
       "      <td>Spain</td>\n",
       "      <td>38.0</td>\n",
       "      <td>61000.0</td>\n",
       "      <td>No</td>\n",
       "    </tr>\n",
       "    <tr>\n",
       "      <th>4</th>\n",
       "      <td>Germany</td>\n",
       "      <td>40.0</td>\n",
       "      <td>NaN</td>\n",
       "      <td>Yes</td>\n",
       "    </tr>\n",
       "    <tr>\n",
       "      <th>5</th>\n",
       "      <td>France</td>\n",
       "      <td>35.0</td>\n",
       "      <td>58000.0</td>\n",
       "      <td>Yes</td>\n",
       "    </tr>\n",
       "    <tr>\n",
       "      <th>6</th>\n",
       "      <td>Spain</td>\n",
       "      <td>NaN</td>\n",
       "      <td>52000.0</td>\n",
       "      <td>No</td>\n",
       "    </tr>\n",
       "    <tr>\n",
       "      <th>7</th>\n",
       "      <td>France</td>\n",
       "      <td>48.0</td>\n",
       "      <td>79000.0</td>\n",
       "      <td>Yes</td>\n",
       "    </tr>\n",
       "    <tr>\n",
       "      <th>8</th>\n",
       "      <td>Germany</td>\n",
       "      <td>50.0</td>\n",
       "      <td>83000.0</td>\n",
       "      <td>No</td>\n",
       "    </tr>\n",
       "    <tr>\n",
       "      <th>9</th>\n",
       "      <td>France</td>\n",
       "      <td>37.0</td>\n",
       "      <td>67000.0</td>\n",
       "      <td>Yes</td>\n",
       "    </tr>\n",
       "  </tbody>\n",
       "</table>\n",
       "</div>"
      ],
      "text/plain": [
       "   Country   Age   Salary Purchased\n",
       "0   France  44.0  72000.0        No\n",
       "1    Spain  27.0  48000.0       Yes\n",
       "2  Germany  30.0  54000.0        No\n",
       "3    Spain  38.0  61000.0        No\n",
       "4  Germany  40.0      NaN       Yes\n",
       "5   France  35.0  58000.0       Yes\n",
       "6    Spain   NaN  52000.0        No\n",
       "7   France  48.0  79000.0       Yes\n",
       "8  Germany  50.0  83000.0        No\n",
       "9   France  37.0  67000.0       Yes"
      ]
     },
     "execution_count": 3,
     "metadata": {},
     "output_type": "execute_result"
    }
   ],
   "source": [
    "df1=pd.read_csv(path1)\n",
    "df1"
   ]
  },
  {
   "cell_type": "code",
   "execution_count": 4,
   "metadata": {
    "collapsed": true
   },
   "outputs": [],
   "source": [
    "from sklearn.preprocessing import Imputer"
   ]
  },
  {
   "cell_type": "code",
   "execution_count": 5,
   "metadata": {},
   "outputs": [
    {
     "data": {
      "text/plain": [
       "array([1, 2, 3])"
      ]
     },
     "execution_count": 5,
     "metadata": {},
     "output_type": "execute_result"
    }
   ],
   "source": [
    "array=np.array([1,2,3])\n",
    "array[:]"
   ]
  },
  {
   "cell_type": "code",
   "execution_count": 6,
   "metadata": {},
   "outputs": [
    {
     "data": {
      "text/plain": [
       "(array([['France', 44.0, 72000.0],\n",
       "        ['Spain', 27.0, 48000.0],\n",
       "        ['Germany', 30.0, 54000.0],\n",
       "        ['Spain', 38.0, 61000.0],\n",
       "        ['Germany', 40.0, nan],\n",
       "        ['France', 35.0, 58000.0],\n",
       "        ['Spain', nan, 52000.0],\n",
       "        ['France', 48.0, 79000.0],\n",
       "        ['Germany', 50.0, 83000.0],\n",
       "        ['France', 37.0, 67000.0]], dtype=object),\n",
       " array(['No', 'Yes', 'No', 'No', 'Yes', 'Yes', 'No', 'Yes', 'No', 'Yes'], dtype=object),\n",
       "    Country   Age   Salary Purchased\n",
       " 0   France  44.0  72000.0        No\n",
       " 1    Spain  27.0  48000.0       Yes\n",
       " 2  Germany  30.0  54000.0        No\n",
       " 3    Spain  38.0  61000.0        No\n",
       " 4  Germany  40.0      NaN       Yes\n",
       " 5   France  35.0  58000.0       Yes\n",
       " 6    Spain   NaN  52000.0        No\n",
       " 7   France  48.0  79000.0       Yes\n",
       " 8  Germany  50.0  83000.0        No\n",
       " 9   France  37.0  67000.0       Yes)"
      ]
     },
     "execution_count": 6,
     "metadata": {},
     "output_type": "execute_result"
    }
   ],
   "source": [
    "X=df1.iloc[:,:-1]\n",
    "Y=df1.iloc[:,3]\n",
    "type(X),type(Y)\n",
    "X=X.values\n",
    "Y=Y.values\n",
    "X,Y,df1"
   ]
  },
  {
   "cell_type": "code",
   "execution_count": 8,
   "metadata": {
    "collapsed": true
   },
   "outputs": [],
   "source": [
    "imputer1 = Imputer(missing_values='NaN',strategy='mean',axis=0)\n",
    "X[:,1:]=imputer1.fit_transform(X[:,1:])"
   ]
  },
  {
   "cell_type": "code",
   "execution_count": 10,
   "metadata": {},
   "outputs": [
    {
     "data": {
      "text/plain": [
       "array([[44.0, 72000.0],\n",
       "       [27.0, 48000.0],\n",
       "       [30.0, 54000.0],\n",
       "       [38.0, 61000.0],\n",
       "       [40.0, 63777.77777777778],\n",
       "       [35.0, 58000.0],\n",
       "       [38.77777777777778, 52000.0],\n",
       "       [48.0, 79000.0],\n",
       "       [50.0, 83000.0],\n",
       "       [37.0, 67000.0]], dtype=object)"
      ]
     },
     "execution_count": 10,
     "metadata": {},
     "output_type": "execute_result"
    }
   ],
   "source": [
    "X[:,1:]"
   ]
  },
  {
   "cell_type": "code",
   "execution_count": 9,
   "metadata": {
    "scrolled": false
   },
   "outputs": [
    {
     "data": {
      "text/plain": [
       "array([[   44, 72000],\n",
       "       [   27, 48000],\n",
       "       [   30, 54000],\n",
       "       [   38, 61000],\n",
       "       [   40, 63777],\n",
       "       [   35, 58000],\n",
       "       [   38, 52000],\n",
       "       [   48, 79000],\n",
       "       [   50, 83000],\n",
       "       [   37, 67000]])"
      ]
     },
     "execution_count": 9,
     "metadata": {},
     "output_type": "execute_result"
    }
   ],
   "source": [
    "np.array(X[:,1:],dtype=int)"
   ]
  },
  {
   "cell_type": "code",
   "execution_count": 26,
   "metadata": {},
   "outputs": [
    {
     "ename": "NameError",
     "evalue": "name 'NotebookApp' is not defined",
     "output_type": "error",
     "traceback": [
      "\u001b[1;31m---------------------------------------------------------------------------\u001b[0m",
      "\u001b[1;31mNameError\u001b[0m                                 Traceback (most recent call last)",
      "\u001b[1;32m<ipython-input-26-ae2280e44717>\u001b[0m in \u001b[0;36m<module>\u001b[1;34m()\u001b[0m\n\u001b[1;32m----> 1\u001b[1;33m \u001b[1;33m-\u001b[0m\u001b[1;33m-\u001b[0m\u001b[0mNotebookApp\u001b[0m\u001b[1;33m.\u001b[0m\u001b[0miopub_data_rate_limit\u001b[0m\u001b[1;33m\u001b[0m\u001b[0m\n\u001b[0m",
      "\u001b[1;31mNameError\u001b[0m: name 'NotebookApp' is not defined"
     ]
    }
   ],
   "source": []
  },
  {
   "cell_type": "code",
   "execution_count": 28,
   "metadata": {
    "scrolled": false
   },
   "outputs": [
    {
     "name": "stderr",
     "output_type": "stream",
     "text": [
      "IOPub data rate exceeded.\n",
      "The notebook server will temporarily stop sending output\n",
      "to the client in order to avoid crashing it.\n",
      "To change this limit, set the config variable\n",
      "`--NotebookApp.iopub_data_rate_limit`.\n"
     ]
    }
   ],
   "source": [
    "np.dtype([('f1', np.int16)])\n",
    "help(np)"
   ]
  },
  {
   "cell_type": "code",
   "execution_count": 26,
   "metadata": {
    "scrolled": true
   },
   "outputs": [
    {
     "name": "stderr",
     "output_type": "stream",
     "text": [
      "C:\\Users\\simra\\Anaconda3\\lib\\site-packages\\ipykernel_launcher.py:5: RuntimeWarning: invalid value encountered in true_divide\n",
      "  \"\"\"\n"
     ]
    },
    {
     "data": {
      "text/plain": [
       "(None, array([[-5, -4, -3, -2, -1,  0,  1,  2,  3,  4],\n",
       "        [-5, -4, -3, -2, -1,  0,  1,  2,  3,  4],\n",
       "        [-5, -4, -3, -2, -1,  0,  1,  2,  3,  4],\n",
       "        [-5, -4, -3, -2, -1,  0,  1,  2,  3,  4],\n",
       "        [-5, -4, -3, -2, -1,  0,  1,  2,  3,  4],\n",
       "        [-5, -4, -3, -2, -1,  0,  1,  2,  3,  4],\n",
       "        [-5, -4, -3, -2, -1,  0,  1,  2,  3,  4],\n",
       "        [-5, -4, -3, -2, -1,  0,  1,  2,  3,  4],\n",
       "        [-5, -4, -3, -2, -1,  0,  1,  2,  3,  4],\n",
       "        [-5, -4, -3, -2, -1,  0,  1,  2,  3,  4]]), array([[-5, -5, -5, -5, -5, -5, -5, -5, -5, -5],\n",
       "        [-4, -4, -4, -4, -4, -4, -4, -4, -4, -4],\n",
       "        [-3, -3, -3, -3, -3, -3, -3, -3, -3, -3],\n",
       "        [-2, -2, -2, -2, -2, -2, -2, -2, -2, -2],\n",
       "        [-1, -1, -1, -1, -1, -1, -1, -1, -1, -1],\n",
       "        [ 0,  0,  0,  0,  0,  0,  0,  0,  0,  0],\n",
       "        [ 1,  1,  1,  1,  1,  1,  1,  1,  1,  1],\n",
       "        [ 2,  2,  2,  2,  2,  2,  2,  2,  2,  2],\n",
       "        [ 3,  3,  3,  3,  3,  3,  3,  3,  3,  3],\n",
       "        [ 4,  4,  4,  4,  4,  4,  4,  4,  4,  4]]))"
      ]
     },
     "execution_count": 26,
     "metadata": {},
     "output_type": "execute_result"
    }
   ],
   "source": [
    "import numpy as np\n",
    "x = np.arange(-5, 5, 1)\n",
    "y = np.arange(-5, 5, 1)\n",
    "xx, yy = np.meshgrid(x, y, sparse=False,indexing='xy')\n",
    "z = np.sin(xx**2 + yy**2) / (xx**2 + yy**2)\n",
    "plt.show(),xx,yy"
   ]
  },
  {
   "cell_type": "code",
   "execution_count": 11,
   "metadata": {},
   "outputs": [
    {
     "name": "stdout",
     "output_type": "stream",
     "text": [
      "85\n"
     ]
    }
   ],
   "source": [
    "sum=0\n",
    "for i in range(np.size(xx)):\n",
    "    sum=xx[0,i]*yy[i,0]+sum\n",
    "print(sum)    "
   ]
  }
 ],
 "metadata": {
  "kernelspec": {
   "display_name": "Python 3",
   "language": "python",
   "name": "python3"
  },
  "language_info": {
   "codemirror_mode": {
    "name": "ipython",
    "version": 3
   },
   "file_extension": ".py",
   "mimetype": "text/x-python",
   "name": "python",
   "nbconvert_exporter": "python",
   "pygments_lexer": "ipython3",
   "version": "3.6.1"
  }
 },
 "nbformat": 4,
 "nbformat_minor": 2
}
