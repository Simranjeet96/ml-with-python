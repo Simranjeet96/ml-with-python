{
 "cells": [
  {
   "cell_type": "code",
   "execution_count": 1,
   "metadata": {
    "collapsed": true
   },
   "outputs": [],
   "source": [
    "from sklearn import datasets\n",
    "import pandas as pd"
   ]
  },
  {
   "cell_type": "code",
   "execution_count": 10,
   "metadata": {},
   "outputs": [
    {
     "name": "stdout",
     "output_type": "stream",
     "text": [
      "<class 'sklearn.datasets.base.Bunch'>\n",
      "(506, 13)\n",
      "float64\n",
      "dict_keys(['data', 'target', 'feature_names', 'DESCR'])\n",
      "[[  6.32000000e-03   1.80000000e+01   2.31000000e+00 ...,   1.53000000e+01\n",
      "    3.96900000e+02   4.98000000e+00]\n",
      " [  2.73100000e-02   0.00000000e+00   7.07000000e+00 ...,   1.78000000e+01\n",
      "    3.96900000e+02   9.14000000e+00]\n",
      " [  2.72900000e-02   0.00000000e+00   7.07000000e+00 ...,   1.78000000e+01\n",
      "    3.92830000e+02   4.03000000e+00]\n",
      " ..., \n",
      " [  6.07600000e-02   0.00000000e+00   1.19300000e+01 ...,   2.10000000e+01\n",
      "    3.96900000e+02   5.64000000e+00]\n",
      " [  1.09590000e-01   0.00000000e+00   1.19300000e+01 ...,   2.10000000e+01\n",
      "    3.93450000e+02   6.48000000e+00]\n",
      " [  4.74100000e-02   0.00000000e+00   1.19300000e+01 ...,   2.10000000e+01\n",
      "    3.96900000e+02   7.88000000e+00]]\n"
     ]
    }
   ],
   "source": [
    "boston = datasets.load_boston()\n",
    "print(type(boston))\n",
    "print(boston.data.shape)\n",
    "print(boston.data.dtype)\n",
    "print(boston.keys())\n",
    "print(boston['data'])"
   ]
  },
  {
   "cell_type": "code",
   "execution_count": 11,
   "metadata": {
    "collapsed": true
   },
   "outputs": [],
   "source": [
    "df = pd.DataFrame(boston.data)"
   ]
  },
  {
   "cell_type": "code",
   "execution_count": 12,
   "metadata": {},
   "outputs": [
    {
     "data": {
      "text/plain": [
       "\"Boston House Prices dataset\\n===========================\\n\\nNotes\\n------\\nData Set Characteristics:  \\n\\n    :Number of Instances: 506 \\n\\n    :Number of Attributes: 13 numeric/categorical predictive\\n    \\n    :Median Value (attribute 14) is usually the target\\n\\n    :Attribute Information (in order):\\n        - CRIM     per capita crime rate by town\\n        - ZN       proportion of residential land zoned for lots over 25,000 sq.ft.\\n        - INDUS    proportion of non-retail business acres per town\\n        - CHAS     Charles River dummy variable (= 1 if tract bounds river; 0 otherwise)\\n        - NOX      nitric oxides concentration (parts per 10 million)\\n        - RM       average number of rooms per dwelling\\n        - AGE      proportion of owner-occupied units built prior to 1940\\n        - DIS      weighted distances to five Boston employment centres\\n        - RAD      index of accessibility to radial highways\\n        - TAX      full-value property-tax rate per $10,000\\n        - PTRATIO  pupil-teacher ratio by town\\n        - B        1000(Bk - 0.63)^2 where Bk is the proportion of blacks by town\\n        - LSTAT    % lower status of the population\\n        - MEDV     Median value of owner-occupied homes in $1000's\\n\\n    :Missing Attribute Values: None\\n\\n    :Creator: Harrison, D. and Rubinfeld, D.L.\\n\\nThis is a copy of UCI ML housing dataset.\\nhttp://archive.ics.uci.edu/ml/datasets/Housing\\n\\n\\nThis dataset was taken from the StatLib library which is maintained at Carnegie Mellon University.\\n\\nThe Boston house-price data of Harrison, D. and Rubinfeld, D.L. 'Hedonic\\nprices and the demand for clean air', J. Environ. Economics & Management,\\nvol.5, 81-102, 1978.   Used in Belsley, Kuh & Welsch, 'Regression diagnostics\\n...', Wiley, 1980.   N.B. Various transformations are used in the table on\\npages 244-261 of the latter.\\n\\nThe Boston house-price data has been used in many machine learning papers that address regression\\nproblems.   \\n     \\n**References**\\n\\n   - Belsley, Kuh & Welsch, 'Regression diagnostics: Identifying Influential Data and Sources of Collinearity', Wiley, 1980. 244-261.\\n   - Quinlan,R. (1993). Combining Instance-Based and Model-Based Learning. In Proceedings on the Tenth International Conference of Machine Learning, 236-243, University of Massachusetts, Amherst. Morgan Kaufmann.\\n   - many more! (see http://archive.ics.uci.edu/ml/datasets/Housing)\\n\""
      ]
     },
     "execution_count": 12,
     "metadata": {},
     "output_type": "execute_result"
    }
   ],
   "source": [
    "boston.DESCR"
   ]
  },
  {
   "cell_type": "code",
   "execution_count": 13,
   "metadata": {},
   "outputs": [
    {
     "data": {
      "text/plain": [
       "array(['CRIM', 'ZN', 'INDUS', 'CHAS', 'NOX', 'RM', 'AGE', 'DIS', 'RAD',\n",
       "       'TAX', 'PTRATIO', 'B', 'LSTAT'], \n",
       "      dtype='<U7')"
      ]
     },
     "execution_count": 13,
     "metadata": {},
     "output_type": "execute_result"
    }
   ],
   "source": [
    "boston.feature_names\n"
   ]
  },
  {
   "cell_type": "code",
   "execution_count": 14,
   "metadata": {},
   "outputs": [
    {
     "data": {
      "text/plain": [
       "array([ 24. ,  21.6,  34.7,  33.4,  36.2,  28.7,  22.9,  27.1,  16.5,\n",
       "        18.9,  15. ,  18.9,  21.7,  20.4,  18.2,  19.9,  23.1,  17.5,\n",
       "        20.2,  18.2,  13.6,  19.6,  15.2,  14.5,  15.6,  13.9,  16.6,\n",
       "        14.8,  18.4,  21. ,  12.7,  14.5,  13.2,  13.1,  13.5,  18.9,\n",
       "        20. ,  21. ,  24.7,  30.8,  34.9,  26.6,  25.3,  24.7,  21.2,\n",
       "        19.3,  20. ,  16.6,  14.4,  19.4,  19.7,  20.5,  25. ,  23.4,\n",
       "        18.9,  35.4,  24.7,  31.6,  23.3,  19.6,  18.7,  16. ,  22.2,\n",
       "        25. ,  33. ,  23.5,  19.4,  22. ,  17.4,  20.9,  24.2,  21.7,\n",
       "        22.8,  23.4,  24.1,  21.4,  20. ,  20.8,  21.2,  20.3,  28. ,\n",
       "        23.9,  24.8,  22.9,  23.9,  26.6,  22.5,  22.2,  23.6,  28.7,\n",
       "        22.6,  22. ,  22.9,  25. ,  20.6,  28.4,  21.4,  38.7,  43.8,\n",
       "        33.2,  27.5,  26.5,  18.6,  19.3,  20.1,  19.5,  19.5,  20.4,\n",
       "        19.8,  19.4,  21.7,  22.8,  18.8,  18.7,  18.5,  18.3,  21.2,\n",
       "        19.2,  20.4,  19.3,  22. ,  20.3,  20.5,  17.3,  18.8,  21.4,\n",
       "        15.7,  16.2,  18. ,  14.3,  19.2,  19.6,  23. ,  18.4,  15.6,\n",
       "        18.1,  17.4,  17.1,  13.3,  17.8,  14. ,  14.4,  13.4,  15.6,\n",
       "        11.8,  13.8,  15.6,  14.6,  17.8,  15.4,  21.5,  19.6,  15.3,\n",
       "        19.4,  17. ,  15.6,  13.1,  41.3,  24.3,  23.3,  27. ,  50. ,\n",
       "        50. ,  50. ,  22.7,  25. ,  50. ,  23.8,  23.8,  22.3,  17.4,\n",
       "        19.1,  23.1,  23.6,  22.6,  29.4,  23.2,  24.6,  29.9,  37.2,\n",
       "        39.8,  36.2,  37.9,  32.5,  26.4,  29.6,  50. ,  32. ,  29.8,\n",
       "        34.9,  37. ,  30.5,  36.4,  31.1,  29.1,  50. ,  33.3,  30.3,\n",
       "        34.6,  34.9,  32.9,  24.1,  42.3,  48.5,  50. ,  22.6,  24.4,\n",
       "        22.5,  24.4,  20. ,  21.7,  19.3,  22.4,  28.1,  23.7,  25. ,\n",
       "        23.3,  28.7,  21.5,  23. ,  26.7,  21.7,  27.5,  30.1,  44.8,\n",
       "        50. ,  37.6,  31.6,  46.7,  31.5,  24.3,  31.7,  41.7,  48.3,\n",
       "        29. ,  24. ,  25.1,  31.5,  23.7,  23.3,  22. ,  20.1,  22.2,\n",
       "        23.7,  17.6,  18.5,  24.3,  20.5,  24.5,  26.2,  24.4,  24.8,\n",
       "        29.6,  42.8,  21.9,  20.9,  44. ,  50. ,  36. ,  30.1,  33.8,\n",
       "        43.1,  48.8,  31. ,  36.5,  22.8,  30.7,  50. ,  43.5,  20.7,\n",
       "        21.1,  25.2,  24.4,  35.2,  32.4,  32. ,  33.2,  33.1,  29.1,\n",
       "        35.1,  45.4,  35.4,  46. ,  50. ,  32.2,  22. ,  20.1,  23.2,\n",
       "        22.3,  24.8,  28.5,  37.3,  27.9,  23.9,  21.7,  28.6,  27.1,\n",
       "        20.3,  22.5,  29. ,  24.8,  22. ,  26.4,  33.1,  36.1,  28.4,\n",
       "        33.4,  28.2,  22.8,  20.3,  16.1,  22.1,  19.4,  21.6,  23.8,\n",
       "        16.2,  17.8,  19.8,  23.1,  21. ,  23.8,  23.1,  20.4,  18.5,\n",
       "        25. ,  24.6,  23. ,  22.2,  19.3,  22.6,  19.8,  17.1,  19.4,\n",
       "        22.2,  20.7,  21.1,  19.5,  18.5,  20.6,  19. ,  18.7,  32.7,\n",
       "        16.5,  23.9,  31.2,  17.5,  17.2,  23.1,  24.5,  26.6,  22.9,\n",
       "        24.1,  18.6,  30.1,  18.2,  20.6,  17.8,  21.7,  22.7,  22.6,\n",
       "        25. ,  19.9,  20.8,  16.8,  21.9,  27.5,  21.9,  23.1,  50. ,\n",
       "        50. ,  50. ,  50. ,  50. ,  13.8,  13.8,  15. ,  13.9,  13.3,\n",
       "        13.1,  10.2,  10.4,  10.9,  11.3,  12.3,   8.8,   7.2,  10.5,\n",
       "         7.4,  10.2,  11.5,  15.1,  23.2,   9.7,  13.8,  12.7,  13.1,\n",
       "        12.5,   8.5,   5. ,   6.3,   5.6,   7.2,  12.1,   8.3,   8.5,\n",
       "         5. ,  11.9,  27.9,  17.2,  27.5,  15. ,  17.2,  17.9,  16.3,\n",
       "         7. ,   7.2,   7.5,  10.4,   8.8,   8.4,  16.7,  14.2,  20.8,\n",
       "        13.4,  11.7,   8.3,  10.2,  10.9,  11. ,   9.5,  14.5,  14.1,\n",
       "        16.1,  14.3,  11.7,  13.4,   9.6,   8.7,   8.4,  12.8,  10.5,\n",
       "        17.1,  18.4,  15.4,  10.8,  11.8,  14.9,  12.6,  14.1,  13. ,\n",
       "        13.4,  15.2,  16.1,  17.8,  14.9,  14.1,  12.7,  13.5,  14.9,\n",
       "        20. ,  16.4,  17.7,  19.5,  20.2,  21.4,  19.9,  19. ,  19.1,\n",
       "        19.1,  20.1,  19.9,  19.6,  23.2,  29.8,  13.8,  13.3,  16.7,\n",
       "        12. ,  14.6,  21.4,  23. ,  23.7,  25. ,  21.8,  20.6,  21.2,\n",
       "        19.1,  20.6,  15.2,   7. ,   8.1,  13.6,  20.1,  21.8,  24.5,\n",
       "        23.1,  19.7,  18.3,  21.2,  17.5,  16.8,  22.4,  20.6,  23.9,\n",
       "        22. ,  11.9])"
      ]
     },
     "execution_count": 14,
     "metadata": {},
     "output_type": "execute_result"
    }
   ],
   "source": [
    "boston.target"
   ]
  },
  {
   "cell_type": "code",
   "execution_count": 26,
   "metadata": {},
   "outputs": [
    {
     "name": "stdout",
     "output_type": "stream",
     "text": [
      "RangeIndex(start=0, stop=506, step=1)\n"
     ]
    }
   ],
   "source": [
    "df.columns = boston.feature_names\n",
    "print(df.index)"
   ]
  },
  {
   "cell_type": "code",
   "execution_count": 27,
   "metadata": {},
   "outputs": [
    {
     "data": {
      "text/plain": [
       "pandas.core.frame.DataFrame"
      ]
     },
     "execution_count": 27,
     "metadata": {},
     "output_type": "execute_result"
    }
   ],
   "source": [
    "df.head()\n",
    "type(df)"
   ]
  },
  {
   "cell_type": "code",
   "execution_count": 28,
   "metadata": {},
   "outputs": [
    {
     "data": {
      "text/html": [
       "<div>\n",
       "<style>\n",
       "    .dataframe thead tr:only-child th {\n",
       "        text-align: right;\n",
       "    }\n",
       "\n",
       "    .dataframe thead th {\n",
       "        text-align: left;\n",
       "    }\n",
       "\n",
       "    .dataframe tbody tr th {\n",
       "        vertical-align: top;\n",
       "    }\n",
       "</style>\n",
       "<table border=\"1\" class=\"dataframe\">\n",
       "  <thead>\n",
       "    <tr style=\"text-align: right;\">\n",
       "      <th></th>\n",
       "      <th>CRIM</th>\n",
       "      <th>ZN</th>\n",
       "      <th>INDUS</th>\n",
       "      <th>CHAS</th>\n",
       "      <th>NOX</th>\n",
       "      <th>RM</th>\n",
       "      <th>AGE</th>\n",
       "      <th>DIS</th>\n",
       "      <th>RAD</th>\n",
       "      <th>TAX</th>\n",
       "      <th>PTRATIO</th>\n",
       "      <th>B</th>\n",
       "      <th>LSTAT</th>\n",
       "    </tr>\n",
       "  </thead>\n",
       "  <tbody>\n",
       "    <tr>\n",
       "      <th>count</th>\n",
       "      <td>506.000000</td>\n",
       "      <td>506.000000</td>\n",
       "      <td>506.000000</td>\n",
       "      <td>506.000000</td>\n",
       "      <td>506.000000</td>\n",
       "      <td>506.000000</td>\n",
       "      <td>506.000000</td>\n",
       "      <td>506.000000</td>\n",
       "      <td>506.000000</td>\n",
       "      <td>506.000000</td>\n",
       "      <td>506.000000</td>\n",
       "      <td>506.000000</td>\n",
       "      <td>506.000000</td>\n",
       "    </tr>\n",
       "    <tr>\n",
       "      <th>mean</th>\n",
       "      <td>3.593761</td>\n",
       "      <td>11.363636</td>\n",
       "      <td>11.136779</td>\n",
       "      <td>0.069170</td>\n",
       "      <td>0.554695</td>\n",
       "      <td>6.284634</td>\n",
       "      <td>68.574901</td>\n",
       "      <td>3.795043</td>\n",
       "      <td>9.549407</td>\n",
       "      <td>408.237154</td>\n",
       "      <td>18.455534</td>\n",
       "      <td>356.674032</td>\n",
       "      <td>12.653063</td>\n",
       "    </tr>\n",
       "    <tr>\n",
       "      <th>std</th>\n",
       "      <td>8.596783</td>\n",
       "      <td>23.322453</td>\n",
       "      <td>6.860353</td>\n",
       "      <td>0.253994</td>\n",
       "      <td>0.115878</td>\n",
       "      <td>0.702617</td>\n",
       "      <td>28.148861</td>\n",
       "      <td>2.105710</td>\n",
       "      <td>8.707259</td>\n",
       "      <td>168.537116</td>\n",
       "      <td>2.164946</td>\n",
       "      <td>91.294864</td>\n",
       "      <td>7.141062</td>\n",
       "    </tr>\n",
       "    <tr>\n",
       "      <th>min</th>\n",
       "      <td>0.006320</td>\n",
       "      <td>0.000000</td>\n",
       "      <td>0.460000</td>\n",
       "      <td>0.000000</td>\n",
       "      <td>0.385000</td>\n",
       "      <td>3.561000</td>\n",
       "      <td>2.900000</td>\n",
       "      <td>1.129600</td>\n",
       "      <td>1.000000</td>\n",
       "      <td>187.000000</td>\n",
       "      <td>12.600000</td>\n",
       "      <td>0.320000</td>\n",
       "      <td>1.730000</td>\n",
       "    </tr>\n",
       "    <tr>\n",
       "      <th>25%</th>\n",
       "      <td>0.082045</td>\n",
       "      <td>0.000000</td>\n",
       "      <td>5.190000</td>\n",
       "      <td>0.000000</td>\n",
       "      <td>0.449000</td>\n",
       "      <td>5.885500</td>\n",
       "      <td>45.025000</td>\n",
       "      <td>2.100175</td>\n",
       "      <td>4.000000</td>\n",
       "      <td>279.000000</td>\n",
       "      <td>17.400000</td>\n",
       "      <td>375.377500</td>\n",
       "      <td>6.950000</td>\n",
       "    </tr>\n",
       "    <tr>\n",
       "      <th>50%</th>\n",
       "      <td>0.256510</td>\n",
       "      <td>0.000000</td>\n",
       "      <td>9.690000</td>\n",
       "      <td>0.000000</td>\n",
       "      <td>0.538000</td>\n",
       "      <td>6.208500</td>\n",
       "      <td>77.500000</td>\n",
       "      <td>3.207450</td>\n",
       "      <td>5.000000</td>\n",
       "      <td>330.000000</td>\n",
       "      <td>19.050000</td>\n",
       "      <td>391.440000</td>\n",
       "      <td>11.360000</td>\n",
       "    </tr>\n",
       "    <tr>\n",
       "      <th>75%</th>\n",
       "      <td>3.647423</td>\n",
       "      <td>12.500000</td>\n",
       "      <td>18.100000</td>\n",
       "      <td>0.000000</td>\n",
       "      <td>0.624000</td>\n",
       "      <td>6.623500</td>\n",
       "      <td>94.075000</td>\n",
       "      <td>5.188425</td>\n",
       "      <td>24.000000</td>\n",
       "      <td>666.000000</td>\n",
       "      <td>20.200000</td>\n",
       "      <td>396.225000</td>\n",
       "      <td>16.955000</td>\n",
       "    </tr>\n",
       "    <tr>\n",
       "      <th>max</th>\n",
       "      <td>88.976200</td>\n",
       "      <td>100.000000</td>\n",
       "      <td>27.740000</td>\n",
       "      <td>1.000000</td>\n",
       "      <td>0.871000</td>\n",
       "      <td>8.780000</td>\n",
       "      <td>100.000000</td>\n",
       "      <td>12.126500</td>\n",
       "      <td>24.000000</td>\n",
       "      <td>711.000000</td>\n",
       "      <td>22.000000</td>\n",
       "      <td>396.900000</td>\n",
       "      <td>37.970000</td>\n",
       "    </tr>\n",
       "  </tbody>\n",
       "</table>\n",
       "</div>"
      ],
      "text/plain": [
       "             CRIM          ZN       INDUS        CHAS         NOX          RM  \\\n",
       "count  506.000000  506.000000  506.000000  506.000000  506.000000  506.000000   \n",
       "mean     3.593761   11.363636   11.136779    0.069170    0.554695    6.284634   \n",
       "std      8.596783   23.322453    6.860353    0.253994    0.115878    0.702617   \n",
       "min      0.006320    0.000000    0.460000    0.000000    0.385000    3.561000   \n",
       "25%      0.082045    0.000000    5.190000    0.000000    0.449000    5.885500   \n",
       "50%      0.256510    0.000000    9.690000    0.000000    0.538000    6.208500   \n",
       "75%      3.647423   12.500000   18.100000    0.000000    0.624000    6.623500   \n",
       "max     88.976200  100.000000   27.740000    1.000000    0.871000    8.780000   \n",
       "\n",
       "              AGE         DIS         RAD         TAX     PTRATIO           B  \\\n",
       "count  506.000000  506.000000  506.000000  506.000000  506.000000  506.000000   \n",
       "mean    68.574901    3.795043    9.549407  408.237154   18.455534  356.674032   \n",
       "std     28.148861    2.105710    8.707259  168.537116    2.164946   91.294864   \n",
       "min      2.900000    1.129600    1.000000  187.000000   12.600000    0.320000   \n",
       "25%     45.025000    2.100175    4.000000  279.000000   17.400000  375.377500   \n",
       "50%     77.500000    3.207450    5.000000  330.000000   19.050000  391.440000   \n",
       "75%     94.075000    5.188425   24.000000  666.000000   20.200000  396.225000   \n",
       "max    100.000000   12.126500   24.000000  711.000000   22.000000  396.900000   \n",
       "\n",
       "            LSTAT  \n",
       "count  506.000000  \n",
       "mean    12.653063  \n",
       "std      7.141062  \n",
       "min      1.730000  \n",
       "25%      6.950000  \n",
       "50%     11.360000  \n",
       "75%     16.955000  \n",
       "max     37.970000  "
      ]
     },
     "execution_count": 28,
     "metadata": {},
     "output_type": "execute_result"
    }
   ],
   "source": [
    "df.describe()"
   ]
  },
  {
   "cell_type": "code",
   "execution_count": 29,
   "metadata": {},
   "outputs": [
    {
     "name": "stdout",
     "output_type": "stream",
     "text": [
      "28.44\n"
     ]
    },
    {
     "data": {
      "text/plain": [
       "22.532806324110677"
      ]
     },
     "execution_count": 29,
     "metadata": {},
     "output_type": "execute_result"
    }
   ],
   "source": [
    "print(boston.target[df[df[\"CHAS\"]==1].index].mean())\n",
    "boston.target.mean()"
   ]
  },
  {
   "cell_type": "code",
   "execution_count": 41,
   "metadata": {
    "collapsed": true
   },
   "outputs": [],
   "source": [
    "#to use inbuilt regression \n",
    "from sklearn.linear_model import LinearRegression"
   ]
  },
  {
   "cell_type": "code",
   "execution_count": 42,
   "metadata": {
    "collapsed": true
   },
   "outputs": [],
   "source": [
    "#object of class\n",
    "clf = LinearRegression()"
   ]
  },
  {
   "cell_type": "code",
   "execution_count": 43,
   "metadata": {},
   "outputs": [],
   "source": [
    "#to split the data for trainig ans testing\n",
    "from sklearn import cross_validation\n",
    "import sklearn\n",
    "\n",
    "#it will return 4 things Xtraining , Ytraining , XTest , YTest\n",
    "X_Train , X_Test , Y_Train , Y_Test = cross_validation.train_test_split(df,boston.target,test_size = 0.5)\n"
   ]
  },
  {
   "cell_type": "code",
   "execution_count": 51,
   "metadata": {},
   "outputs": [
    {
     "data": {
      "text/plain": [
       "LinearRegression(copy_X=True, fit_intercept=True, n_jobs=1, normalize=False)"
      ]
     },
     "execution_count": 51,
     "metadata": {},
     "output_type": "execute_result"
    }
   ],
   "source": [
    "#fitting of data\n",
    "#clf.fit(X,Y)\n",
    "\n",
    "clf.fit(X_Train,Y_Train)\n"
   ]
  },
  {
   "cell_type": "code",
   "execution_count": 52,
   "metadata": {
    "scrolled": true
   },
   "outputs": [
    {
     "data": {
      "text/plain": [
       "array([ 27.40120037,  14.7152392 ,  39.99047461,  25.91972765,\n",
       "        13.91550278,  24.8476683 ,  26.84114114,  33.22567122,\n",
       "        27.94588499,  30.20855666,  20.30668224,  15.62003881,\n",
       "        13.97133245,  19.00369889,  31.97469218,  16.10180774,\n",
       "        33.4187594 ,  26.72443042,  17.95033633,  27.50337331,\n",
       "        23.57227155,  19.0466853 ,   7.51789827,  35.32593055,\n",
       "        32.53550619,  18.90639278,  19.11957315,  37.64839985,\n",
       "        24.79142828,  24.35612906,  25.25002898,  29.29303586,\n",
       "        12.86188977,  27.00810962,  19.99165174,  15.63550154,\n",
       "        26.25471808,  18.96337964,  18.34037897,  25.55641865,\n",
       "        23.34319145,  20.8169814 ,  21.33504416,  22.58564093,\n",
       "        40.42731504,  28.91725459,  18.1764949 ,  31.34237036,\n",
       "        19.61449535,   4.03256156,  20.88531514,  16.84683759,\n",
       "        35.30446894,  16.37526489,  16.55170521,  23.41653635,\n",
       "        24.56574015,  12.66999275,  18.82014627,  31.46995441,\n",
       "        17.10603918,  24.47663854,  15.42415284,  29.09638433,\n",
       "        14.57730503,  24.60672743,  20.7363761 ,  27.08135009,\n",
       "        19.34431928,  26.80897089,  31.04107912,  23.82002676,\n",
       "        14.3299003 ,   5.49341527,  21.74509892,   9.74500181,\n",
       "        25.86825161,  21.63149901,  21.29359819,  28.0361244 ,\n",
       "         7.79017053,  35.09467024,  10.5814803 ,  12.28656837,\n",
       "        23.17825212,  34.93709271,  13.91435167,  17.41350776,\n",
       "        30.27796481,  27.88699505,  17.79604053,  19.36343981,\n",
       "        22.70299648,  17.21275535,  32.72392291,  24.19256841,\n",
       "        21.88166429,  18.57076212,  11.04513673,  24.35397398,\n",
       "        29.85469982,  31.9376222 ,  38.86386663,  17.70251105,\n",
       "        11.85589171,  31.47142867,  22.90493997,  23.73285143,\n",
       "        17.55803539,  23.52363363,  17.33273664,  32.11352634,\n",
       "         1.87974214,  25.12349358,  38.34194625,  22.22466556,\n",
       "        19.95398256,  10.36110913,  15.06918294,  15.9183202 ,\n",
       "        23.26952458,  18.11143128,  34.36927504,  14.57283986,\n",
       "        22.72753019,  36.99592663,  25.72163245,  20.93419605,\n",
       "        25.68239006,  22.07960633,  24.35882091,  25.43005261,\n",
       "        18.98156847,  22.3238893 ,  23.08203125,  20.47576143,\n",
       "        23.91735665,  32.94706198,  22.93463897,   8.70379223,\n",
       "        36.23360868,  40.18564613,  20.8614329 ,  31.82048307,\n",
       "        17.8893728 ,  22.35818438,  29.29509146,  21.04272682,\n",
       "        19.73663963,  22.22228877,  17.45434003,  28.37339275,\n",
       "        14.20186686,  29.37667447,  26.08822241,  30.32753999,\n",
       "        20.27493354,  22.9085901 ,  37.35866978,  21.79868723,\n",
       "        22.46215808,  25.56140335,  25.37470563,  14.09097452,\n",
       "        17.51851297,  26.14319853,  17.5531677 ,  31.95616192,\n",
       "        23.64672399,  35.07669786,  33.64370026,  21.79033605,\n",
       "        18.78149106,  25.0552247 ,  17.73183981,  18.48143735,\n",
       "        18.54025752,  25.85459541,  15.36929082,  20.70808426,\n",
       "        22.98022504,  13.61236682,  17.1631159 ,  15.41024735,\n",
       "        26.01494438,  32.0398862 ,  19.80469437,  16.71434642,\n",
       "        18.27676249,  20.07343698,  36.60999442,  20.08462496,\n",
       "        15.54468369,  13.03325959,  31.98493669,  15.66087803,\n",
       "        15.29175873,  34.88315818,  20.09414731,  26.3176906 ,\n",
       "        22.47869031,  29.06468891,  20.51039066,  12.12431366,\n",
       "        25.64798249,  25.32199484,  21.36788499,  13.08052156,\n",
       "         7.16527572,  13.23381116,  21.69603166,  21.90096687,\n",
       "        11.92088416,  25.98542471,  20.71313195,  25.60890452,\n",
       "        20.73260213,  33.54744418,  29.69263808,  22.13730989,\n",
       "        21.78781458,  27.43849866,  27.46105516,  17.87351787,\n",
       "        26.49720431,  11.89926269,  22.94449471,  18.91231588,\n",
       "        25.43556431,  31.42955996,  17.36304072,  35.51741034,\n",
       "        36.77039534,  19.57455322,  16.77220042,  22.69546435,\n",
       "        16.45003697,  17.78104739,  38.79177629,  31.5465236 ,\n",
       "         9.90766934,  19.8062873 ,  25.49528349,  34.73392647,\n",
       "        40.54296386,  30.82294467,  32.93075023,  18.10458628,\n",
       "        44.38786397,  33.82385332,  26.19288318,  29.17120932,  41.64619014])"
      ]
     },
     "execution_count": 52,
     "metadata": {},
     "output_type": "execute_result"
    }
   ],
   "source": [
    "#to predict the line\n",
    "clf.predict(X_Test)"
   ]
  },
  {
   "cell_type": "code",
   "execution_count": 46,
   "metadata": {},
   "outputs": [
    {
     "data": {
      "text/plain": [
       "array([ 22.6,  11.5,  50. ,  24.8,  11.3,  25. ,  23.3,  33.1,  26.6,\n",
       "        25.1,  19.3,  13.1,  14.5,  19.9,  41.3,  14.9,  37.9,  23.7,\n",
       "        18. ,  24.8,  21.2,  17.5,   8.5,  33.2,  29. ,  20. ,  14.6,\n",
       "        44.8,  26.2,  23. ,  23.9,  22.8,  13.6,  27.1,  18.5,   8.4,\n",
       "        22.2,  14.1,  12.1,  25. ,  20.4,  17.1,  20.3,  20. ,  48.8,\n",
       "        33.4,  16.6,  37. ,  20.3,  14.4,  15.6,  14.1,  33.4,  18.1,\n",
       "        11.7,  20.8,  22.2,  13.6,  18.2,  29.9,  20. ,  21.7,  17.3,\n",
       "        23. ,  13.1,  50. ,  16.2,  22.1,  18.2,  23.9,  32.9,  24.4,\n",
       "        11.8,   8.8,  24.5,  13.2,  24. ,  21.4,  20. ,  24.5,  10.4,\n",
       "        43.8,  17.8,  10.8,  22.4,  33.8,   9.5,  20.2,  24. ,  23.9,\n",
       "        19.4,  18.4,  19.8,  19.1,  28.2,  20.5,  20.6,  19.5,  15.2,\n",
       "        27.5,  22.5,  29. ,  50. ,  19.4,  23.1,  29.4,  22.5,  19.2,\n",
       "        15.1,  23. ,  17.5,  27.5,  13.8,  23.1,  45.4,  21.7,  20.5,\n",
       "         7.2,  14.8,  18.9,  22.4,  14.9,  31. ,  16.2,  16.5,  43.1,\n",
       "        24.2,  16.8,  23.1,  16.1,  21.9,  26.5,  18.4,  19.8,  21.7,\n",
       "        17.7,  21. ,  26.7,  25. ,  11.9,  36. ,  46. ,  21.5,  27. ,\n",
       "        14.3,  20.7,  22. ,  19.5,  19.4,  17.8,  10.2,  22.9,  13.5,\n",
       "        24.6,  50. ,  23.6,  13.1,  21.1,  41.7,  18.9,  19.3,  24.7,\n",
       "        22. ,  13.5,  17.1,  25.3,  20.6,  27.9,  19.1,  38.7,  32. ,\n",
       "        21.8,  20.8,  21.4,  13.9,  18.7,  14.2,  22.3,  11. ,  15.3,\n",
       "        23.8,  12.3,  17.5,  18.2,  24.1,  31.5,  22.6,  10.2,  10.9,\n",
       "        22.2,  48.3,  19.5,  19. ,  14. ,  29.1,  17.2,  15.4,  30.1,\n",
       "        13.3,  22.8,  20.2,  31.2,  16.7,  16.5,  28.7,  24.7,  23.1,\n",
       "         8.3,   5. ,  13.3,  21. ,  21.7,  12. ,  20.7,  21. ,  28.1,\n",
       "        21.4,  36.1,  30.1,  20.6,  19.6,  22.3,  22. ,  23.2,  23.2,\n",
       "        12.7,  20. ,  16.1,  22.6,  35.4,  19.5,  50. ,  21.9,  15.2,\n",
       "        17.6,  22.7,  15.6,  14.9,  50. ,  30.7,   8.7,  18.5,  24.6,\n",
       "        34.6,  50. ,  28.7,  29.8,  22.5,  50. ,  50. ,  19.4,  23.7,  48.5])"
      ]
     },
     "execution_count": 46,
     "metadata": {},
     "output_type": "execute_result"
    }
   ],
   "source": [
    "#actual values\n",
    "Y_Test"
   ]
  },
  {
   "cell_type": "code",
   "execution_count": 54,
   "metadata": {},
   "outputs": [
    {
     "name": "stdout",
     "output_type": "stream",
     "text": [
      "[ -1.32850652e-01   4.16757925e-02  -5.49451825e-02   2.67984006e+00\n",
      "  -1.49323205e+01   3.43728269e+00  -1.47493429e-02  -1.44155953e+00\n",
      "   3.33305130e-01  -1.19227970e-02  -9.55163628e-01   7.32931887e-03\n",
      "  -4.94813142e-01]\n"
     ]
    },
    {
     "data": {
      "text/plain": [
       "39.3116629805968"
      ]
     },
     "execution_count": 54,
     "metadata": {},
     "output_type": "execute_result"
    }
   ],
   "source": [
    "print(clf.coef_)\n",
    "clf.intercept_"
   ]
  },
  {
   "cell_type": "code",
   "execution_count": 55,
   "metadata": {},
   "outputs": [
    {
     "data": {
      "text/plain": [
       "0.73667563921077939"
      ]
     },
     "execution_count": 55,
     "metadata": {},
     "output_type": "execute_result"
    }
   ],
   "source": [
    "#to test the expected results with output\n",
    "#first argument is compared with second argument\n",
    "\n",
    "score = clf.score(X_Test , Y_Test)\n",
    "score"
   ]
  },
  {
   "cell_type": "code",
   "execution_count": 56,
   "metadata": {},
   "outputs": [
    {
     "data": {
      "text/plain": [
       "90      0.04684\n",
       "389     8.15174\n",
       "163     1.51902\n",
       "251     0.21409\n",
       "382     9.18702\n",
       "165     2.92400\n",
       "216     0.04560\n",
       "303     0.10000\n",
       "85      0.05735\n",
       "236     0.52058\n",
       "103     0.21161\n",
       "378    23.64820\n",
       "23      0.98843\n",
       "465     3.16360\n",
       "157     1.22358\n",
       "454     9.51363\n",
       "182     0.09103\n",
       "481     5.70818\n",
       "128     0.32543\n",
       "289     0.04297\n",
       "116     0.13158\n",
       "499     0.17783\n",
       "404    41.52920\n",
       "276     0.10469\n",
       "299     0.05561\n",
       "459     6.80117\n",
       "478    10.23300\n",
       "224     0.31533\n",
       "249     0.19073\n",
       "326     0.30347\n",
       "         ...   \n",
       "391     5.29305\n",
       "176     0.07022\n",
       "30      1.13081\n",
       "36      0.09744\n",
       "452     5.09017\n",
       "329     0.06724\n",
       "55      0.01311\n",
       "106     0.17120\n",
       "166     2.01019\n",
       "364     3.47428\n",
       "451     5.44114\n",
       "244     0.20608\n",
       "358     5.20177\n",
       "146     2.15505\n",
       "458     7.75223\n",
       "162     1.83377\n",
       "266     0.78570\n",
       "437    15.17720\n",
       "323     0.28392\n",
       "325     0.19186\n",
       "198     0.03768\n",
       "267     0.57834\n",
       "89      0.05302\n",
       "188     0.12579\n",
       "207     0.25199\n",
       "283     0.01501\n",
       "370     6.53876\n",
       "66      0.04379\n",
       "238     0.08244\n",
       "203     0.03510\n",
       "Name: CRIM, Length: 253, dtype: float64"
      ]
     },
     "execution_count": 56,
     "metadata": {},
     "output_type": "execute_result"
    }
   ],
   "source": [
    "X_Test['CRIM']\n"
   ]
  },
  {
   "cell_type": "code",
   "execution_count": 57,
   "metadata": {},
   "outputs": [
    {
     "data": {
      "image/png": "[encoded data removed]",
      "text/plain": [
       "<matplotlib.figure.Figure at 0x20c648457b8>"
      ]
     },
     "metadata": {},
     "output_type": "display_data"
    }
   ],
   "source": [
    "import matplotlib.pyplot as plt\n",
    "a=X_Test[\"CRIM\"]\n",
    "b=clf.predict(X_Test)\n",
    "c=Y_Test\n",
    "\n",
    "plt.scatter(a,c,label=\"original\")\n",
    "plt.legend()\n",
    "plt.show()"
   ]
  },
  {
   "cell_type": "code",
   "execution_count": 59,
   "metadata": {},
   "outputs": [
    {
     "data": {
      "image/png": "[encoded data removed]",
      "text/plain": [
       "<matplotlib.figure.Figure at 0x20c6633cf60>"
      ]
     },
     "metadata": {},
     "output_type": "display_data"
    }
   ],
   "source": [
    "plt.scatter(a,b,label=\"predicted\")\n",
    "plt.legend()\n",
    "plt.show()"
   ]
  },
  {
   "cell_type": "code",
   "execution_count": null,
   "metadata": {
    "collapsed": true
   },
   "outputs": [],
   "source": []
  }
 ],
 "metadata": {
  "kernelspec": {
   "display_name": "Python 3",
   "language": "python",
   "name": "python3"
  },
  "language_info": {
   "codemirror_mode": {
    "name": "ipython",
    "version": 3
   },
   "file_extension": ".py",
   "mimetype": "text/x-python",
   "name": "python",
   "nbconvert_exporter": "python",
   "pygments_lexer": "ipython3",
   "version": "3.6.1"
  }
 },
 "nbformat": 4,
 "nbformat_minor": 2
}
